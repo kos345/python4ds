{
 "cells": [
  {
   "cell_type": "code",
   "execution_count": 473,
   "metadata": {},
   "outputs": [],
   "source": [
    "import numpy as np\n",
    "import pandas as pd\n",
    "import matplotlib.pyplot as plt\n",
    "import seaborn as sns\n",
    "from sklearn.model_selection import train_test_split\n",
    "from sklearn.ensemble import RandomForestRegressor as RFR\n",
    "from sklearn.metrics import r2_score as r2\n",
    "\n",
    "%matplotlib inline\n",
    "pd.options.display.max_columns = 100"
   ]
  },
  {
   "cell_type": "code",
   "execution_count": 474,
   "metadata": {},
   "outputs": [],
   "source": [
    "data = pd.read_csv('train.csv')"
   ]
  },
  {
   "cell_type": "code",
   "execution_count": 475,
   "metadata": {},
   "outputs": [
    {
     "data": {
      "text/html": [
       "<div>\n",
       "<style scoped>\n",
       "    .dataframe tbody tr th:only-of-type {\n",
       "        vertical-align: middle;\n",
       "    }\n",
       "\n",
       "    .dataframe tbody tr th {\n",
       "        vertical-align: top;\n",
       "    }\n",
       "\n",
       "    .dataframe thead th {\n",
       "        text-align: right;\n",
       "    }\n",
       "</style>\n",
       "<table border=\"1\" class=\"dataframe\">\n",
       "  <thead>\n",
       "    <tr style=\"text-align: right;\">\n",
       "      <th></th>\n",
       "      <th>Id</th>\n",
       "      <th>DistrictId</th>\n",
       "      <th>Rooms</th>\n",
       "      <th>Square</th>\n",
       "      <th>LifeSquare</th>\n",
       "      <th>KitchenSquare</th>\n",
       "      <th>Floor</th>\n",
       "      <th>HouseFloor</th>\n",
       "      <th>HouseYear</th>\n",
       "      <th>Ecology_1</th>\n",
       "      <th>Ecology_2</th>\n",
       "      <th>Ecology_3</th>\n",
       "      <th>Social_1</th>\n",
       "      <th>Social_2</th>\n",
       "      <th>Social_3</th>\n",
       "      <th>Healthcare_1</th>\n",
       "      <th>Helthcare_2</th>\n",
       "      <th>Shops_1</th>\n",
       "      <th>Shops_2</th>\n",
       "      <th>Price</th>\n",
       "    </tr>\n",
       "  </thead>\n",
       "  <tbody>\n",
       "    <tr>\n",
       "      <th>0</th>\n",
       "      <td>14038</td>\n",
       "      <td>35</td>\n",
       "      <td>2.0</td>\n",
       "      <td>47.981561</td>\n",
       "      <td>29.442751</td>\n",
       "      <td>6.0</td>\n",
       "      <td>7</td>\n",
       "      <td>9.0</td>\n",
       "      <td>1969</td>\n",
       "      <td>0.089040</td>\n",
       "      <td>B</td>\n",
       "      <td>B</td>\n",
       "      <td>33</td>\n",
       "      <td>7976</td>\n",
       "      <td>5</td>\n",
       "      <td>NaN</td>\n",
       "      <td>0</td>\n",
       "      <td>11</td>\n",
       "      <td>B</td>\n",
       "      <td>184966.930730</td>\n",
       "    </tr>\n",
       "    <tr>\n",
       "      <th>1</th>\n",
       "      <td>15053</td>\n",
       "      <td>41</td>\n",
       "      <td>3.0</td>\n",
       "      <td>65.683640</td>\n",
       "      <td>40.049543</td>\n",
       "      <td>8.0</td>\n",
       "      <td>7</td>\n",
       "      <td>9.0</td>\n",
       "      <td>1978</td>\n",
       "      <td>0.000070</td>\n",
       "      <td>B</td>\n",
       "      <td>B</td>\n",
       "      <td>46</td>\n",
       "      <td>10309</td>\n",
       "      <td>1</td>\n",
       "      <td>240.0</td>\n",
       "      <td>1</td>\n",
       "      <td>16</td>\n",
       "      <td>B</td>\n",
       "      <td>300009.450063</td>\n",
       "    </tr>\n",
       "    <tr>\n",
       "      <th>2</th>\n",
       "      <td>4765</td>\n",
       "      <td>53</td>\n",
       "      <td>2.0</td>\n",
       "      <td>44.947953</td>\n",
       "      <td>29.197612</td>\n",
       "      <td>0.0</td>\n",
       "      <td>8</td>\n",
       "      <td>12.0</td>\n",
       "      <td>1968</td>\n",
       "      <td>0.049637</td>\n",
       "      <td>B</td>\n",
       "      <td>B</td>\n",
       "      <td>34</td>\n",
       "      <td>7759</td>\n",
       "      <td>0</td>\n",
       "      <td>229.0</td>\n",
       "      <td>1</td>\n",
       "      <td>3</td>\n",
       "      <td>B</td>\n",
       "      <td>220925.908524</td>\n",
       "    </tr>\n",
       "    <tr>\n",
       "      <th>3</th>\n",
       "      <td>5809</td>\n",
       "      <td>58</td>\n",
       "      <td>2.0</td>\n",
       "      <td>53.352981</td>\n",
       "      <td>52.731512</td>\n",
       "      <td>9.0</td>\n",
       "      <td>8</td>\n",
       "      <td>17.0</td>\n",
       "      <td>1977</td>\n",
       "      <td>0.437885</td>\n",
       "      <td>B</td>\n",
       "      <td>B</td>\n",
       "      <td>23</td>\n",
       "      <td>5735</td>\n",
       "      <td>3</td>\n",
       "      <td>1084.0</td>\n",
       "      <td>0</td>\n",
       "      <td>5</td>\n",
       "      <td>B</td>\n",
       "      <td>175616.227217</td>\n",
       "    </tr>\n",
       "    <tr>\n",
       "      <th>4</th>\n",
       "      <td>10783</td>\n",
       "      <td>99</td>\n",
       "      <td>1.0</td>\n",
       "      <td>39.649192</td>\n",
       "      <td>23.776169</td>\n",
       "      <td>7.0</td>\n",
       "      <td>11</td>\n",
       "      <td>12.0</td>\n",
       "      <td>1976</td>\n",
       "      <td>0.012339</td>\n",
       "      <td>B</td>\n",
       "      <td>B</td>\n",
       "      <td>35</td>\n",
       "      <td>5776</td>\n",
       "      <td>1</td>\n",
       "      <td>2078.0</td>\n",
       "      <td>2</td>\n",
       "      <td>4</td>\n",
       "      <td>B</td>\n",
       "      <td>150226.531644</td>\n",
       "    </tr>\n",
       "    <tr>\n",
       "      <th>5</th>\n",
       "      <td>12915</td>\n",
       "      <td>59</td>\n",
       "      <td>3.0</td>\n",
       "      <td>80.384479</td>\n",
       "      <td>46.683720</td>\n",
       "      <td>12.0</td>\n",
       "      <td>5</td>\n",
       "      <td>17.0</td>\n",
       "      <td>2011</td>\n",
       "      <td>0.309479</td>\n",
       "      <td>B</td>\n",
       "      <td>B</td>\n",
       "      <td>35</td>\n",
       "      <td>7715</td>\n",
       "      <td>4</td>\n",
       "      <td>990.0</td>\n",
       "      <td>0</td>\n",
       "      <td>6</td>\n",
       "      <td>B</td>\n",
       "      <td>215898.447742</td>\n",
       "    </tr>\n",
       "    <tr>\n",
       "      <th>6</th>\n",
       "      <td>14549</td>\n",
       "      <td>154</td>\n",
       "      <td>2.0</td>\n",
       "      <td>62.254114</td>\n",
       "      <td>37.160377</td>\n",
       "      <td>7.0</td>\n",
       "      <td>3</td>\n",
       "      <td>5.0</td>\n",
       "      <td>1960</td>\n",
       "      <td>0.460556</td>\n",
       "      <td>B</td>\n",
       "      <td>B</td>\n",
       "      <td>20</td>\n",
       "      <td>4386</td>\n",
       "      <td>14</td>\n",
       "      <td>NaN</td>\n",
       "      <td>1</td>\n",
       "      <td>5</td>\n",
       "      <td>B</td>\n",
       "      <td>296021.204377</td>\n",
       "    </tr>\n",
       "    <tr>\n",
       "      <th>7</th>\n",
       "      <td>11993</td>\n",
       "      <td>74</td>\n",
       "      <td>2.0</td>\n",
       "      <td>80.312926</td>\n",
       "      <td>NaN</td>\n",
       "      <td>0.0</td>\n",
       "      <td>14</td>\n",
       "      <td>0.0</td>\n",
       "      <td>1977</td>\n",
       "      <td>0.075779</td>\n",
       "      <td>B</td>\n",
       "      <td>B</td>\n",
       "      <td>6</td>\n",
       "      <td>1437</td>\n",
       "      <td>3</td>\n",
       "      <td>NaN</td>\n",
       "      <td>0</td>\n",
       "      <td>2</td>\n",
       "      <td>B</td>\n",
       "      <td>221244.156664</td>\n",
       "    </tr>\n",
       "    <tr>\n",
       "      <th>8</th>\n",
       "      <td>5172</td>\n",
       "      <td>1</td>\n",
       "      <td>2.0</td>\n",
       "      <td>64.511437</td>\n",
       "      <td>NaN</td>\n",
       "      <td>1.0</td>\n",
       "      <td>9</td>\n",
       "      <td>17.0</td>\n",
       "      <td>1977</td>\n",
       "      <td>0.007122</td>\n",
       "      <td>B</td>\n",
       "      <td>B</td>\n",
       "      <td>1</td>\n",
       "      <td>264</td>\n",
       "      <td>0</td>\n",
       "      <td>NaN</td>\n",
       "      <td>0</td>\n",
       "      <td>1</td>\n",
       "      <td>B</td>\n",
       "      <td>229102.795999</td>\n",
       "    </tr>\n",
       "    <tr>\n",
       "      <th>9</th>\n",
       "      <td>8649</td>\n",
       "      <td>23</td>\n",
       "      <td>1.0</td>\n",
       "      <td>46.461409</td>\n",
       "      <td>18.915552</td>\n",
       "      <td>8.0</td>\n",
       "      <td>13</td>\n",
       "      <td>17.0</td>\n",
       "      <td>2014</td>\n",
       "      <td>0.075779</td>\n",
       "      <td>B</td>\n",
       "      <td>B</td>\n",
       "      <td>6</td>\n",
       "      <td>1437</td>\n",
       "      <td>3</td>\n",
       "      <td>NaN</td>\n",
       "      <td>0</td>\n",
       "      <td>2</td>\n",
       "      <td>B</td>\n",
       "      <td>95380.220993</td>\n",
       "    </tr>\n",
       "  </tbody>\n",
       "</table>\n",
       "</div>"
      ],
      "text/plain": [
       "      Id  DistrictId  Rooms     Square  LifeSquare  KitchenSquare  Floor  \\\n",
       "0  14038          35    2.0  47.981561   29.442751            6.0      7   \n",
       "1  15053          41    3.0  65.683640   40.049543            8.0      7   \n",
       "2   4765          53    2.0  44.947953   29.197612            0.0      8   \n",
       "3   5809          58    2.0  53.352981   52.731512            9.0      8   \n",
       "4  10783          99    1.0  39.649192   23.776169            7.0     11   \n",
       "5  12915          59    3.0  80.384479   46.683720           12.0      5   \n",
       "6  14549         154    2.0  62.254114   37.160377            7.0      3   \n",
       "7  11993          74    2.0  80.312926         NaN            0.0     14   \n",
       "8   5172           1    2.0  64.511437         NaN            1.0      9   \n",
       "9   8649          23    1.0  46.461409   18.915552            8.0     13   \n",
       "\n",
       "   HouseFloor  HouseYear  Ecology_1 Ecology_2 Ecology_3  Social_1  Social_2  \\\n",
       "0         9.0       1969   0.089040         B         B        33      7976   \n",
       "1         9.0       1978   0.000070         B         B        46     10309   \n",
       "2        12.0       1968   0.049637         B         B        34      7759   \n",
       "3        17.0       1977   0.437885         B         B        23      5735   \n",
       "4        12.0       1976   0.012339         B         B        35      5776   \n",
       "5        17.0       2011   0.309479         B         B        35      7715   \n",
       "6         5.0       1960   0.460556         B         B        20      4386   \n",
       "7         0.0       1977   0.075779         B         B         6      1437   \n",
       "8        17.0       1977   0.007122         B         B         1       264   \n",
       "9        17.0       2014   0.075779         B         B         6      1437   \n",
       "\n",
       "   Social_3  Healthcare_1  Helthcare_2  Shops_1 Shops_2          Price  \n",
       "0         5           NaN            0       11       B  184966.930730  \n",
       "1         1         240.0            1       16       B  300009.450063  \n",
       "2         0         229.0            1        3       B  220925.908524  \n",
       "3         3        1084.0            0        5       B  175616.227217  \n",
       "4         1        2078.0            2        4       B  150226.531644  \n",
       "5         4         990.0            0        6       B  215898.447742  \n",
       "6        14           NaN            1        5       B  296021.204377  \n",
       "7         3           NaN            0        2       B  221244.156664  \n",
       "8         0           NaN            0        1       B  229102.795999  \n",
       "9         3           NaN            0        2       B   95380.220993  "
      ]
     },
     "execution_count": 475,
     "metadata": {},
     "output_type": "execute_result"
    }
   ],
   "source": [
    "data.head(10)"
   ]
  },
  {
   "cell_type": "code",
   "execution_count": 476,
   "metadata": {},
   "outputs": [
    {
     "name": "stdout",
     "output_type": "stream",
     "text": [
      "<class 'pandas.core.frame.DataFrame'>\n",
      "RangeIndex: 10000 entries, 0 to 9999\n",
      "Data columns (total 20 columns):\n",
      "Id               10000 non-null int64\n",
      "DistrictId       10000 non-null int64\n",
      "Rooms            10000 non-null float64\n",
      "Square           10000 non-null float64\n",
      "LifeSquare       7887 non-null float64\n",
      "KitchenSquare    10000 non-null float64\n",
      "Floor            10000 non-null int64\n",
      "HouseFloor       10000 non-null float64\n",
      "HouseYear        10000 non-null int64\n",
      "Ecology_1        10000 non-null float64\n",
      "Ecology_2        10000 non-null object\n",
      "Ecology_3        10000 non-null object\n",
      "Social_1         10000 non-null int64\n",
      "Social_2         10000 non-null int64\n",
      "Social_3         10000 non-null int64\n",
      "Healthcare_1     5202 non-null float64\n",
      "Helthcare_2      10000 non-null int64\n",
      "Shops_1          10000 non-null int64\n",
      "Shops_2          10000 non-null object\n",
      "Price            10000 non-null float64\n",
      "dtypes: float64(8), int64(9), object(3)\n",
      "memory usage: 1.4+ MB\n"
     ]
    }
   ],
   "source": [
    "data.info()"
   ]
  },
  {
   "cell_type": "markdown",
   "metadata": {},
   "source": [
    "Видим, что полностью заполнены почти все колонки, кроме LifeSquare и Healthcare_1. LifeSquare можно дозаполнить, используя колонки с общей площадью и жилой площадью дргих квартир. Healthcare_1 непонятный столбец, в нем почти полвина незаолненных значений и есть похожий на него столбец Helthcare_2, поэтому не будем его использовать в модели."
   ]
  },
  {
   "cell_type": "code",
   "execution_count": 477,
   "metadata": {},
   "outputs": [],
   "source": [
    "train, valid = train_test_split(data, test_size=0.3, random_state=42)"
   ]
  },
  {
   "cell_type": "code",
   "execution_count": 478,
   "metadata": {},
   "outputs": [
    {
     "data": {
      "text/plain": [
       "(7000, 20)"
      ]
     },
     "execution_count": 478,
     "metadata": {},
     "output_type": "execute_result"
    }
   ],
   "source": [
    "train.shape"
   ]
  },
  {
   "cell_type": "code",
   "execution_count": 479,
   "metadata": {},
   "outputs": [
    {
     "name": "stdout",
     "output_type": "stream",
     "text": [
      "<class 'pandas.core.frame.DataFrame'>\n",
      "Int64Index: 7000 entries, 9069 to 7270\n",
      "Data columns (total 20 columns):\n",
      "Id               7000 non-null int64\n",
      "DistrictId       7000 non-null int64\n",
      "Rooms            7000 non-null float64\n",
      "Square           7000 non-null float64\n",
      "LifeSquare       5514 non-null float64\n",
      "KitchenSquare    7000 non-null float64\n",
      "Floor            7000 non-null int64\n",
      "HouseFloor       7000 non-null float64\n",
      "HouseYear        7000 non-null int64\n",
      "Ecology_1        7000 non-null float64\n",
      "Ecology_2        7000 non-null object\n",
      "Ecology_3        7000 non-null object\n",
      "Social_1         7000 non-null int64\n",
      "Social_2         7000 non-null int64\n",
      "Social_3         7000 non-null int64\n",
      "Healthcare_1     3642 non-null float64\n",
      "Helthcare_2      7000 non-null int64\n",
      "Shops_1          7000 non-null int64\n",
      "Shops_2          7000 non-null object\n",
      "Price            7000 non-null float64\n",
      "dtypes: float64(8), int64(9), object(3)\n",
      "memory usage: 1.0+ MB\n"
     ]
    }
   ],
   "source": [
    "train.info()"
   ]
  },
  {
   "cell_type": "markdown",
   "metadata": {},
   "source": [
    "Уберем из train подозрительные квартиры, где комнат более, чем 5. Таких квартир очень мало, они не должны повлиять на модель"
   ]
  },
  {
   "cell_type": "code",
   "execution_count": 480,
   "metadata": {},
   "outputs": [
    {
     "data": {
      "text/plain": [
       "(6992, 20)"
      ]
     },
     "execution_count": 480,
     "metadata": {},
     "output_type": "execute_result"
    }
   ],
   "source": [
    "train = train[(train['Rooms']<6) & (train['Rooms']>0)]\n",
    "train.shape"
   ]
  },
  {
   "cell_type": "markdown",
   "metadata": {},
   "source": [
    "#### Анализ выбросов в Square"
   ]
  },
  {
   "cell_type": "code",
   "execution_count": 481,
   "metadata": {},
   "outputs": [
    {
     "data": {
      "text/plain": [
       "2.0    2725\n",
       "1.0    2594\n",
       "3.0    1558\n",
       "4.0     103\n",
       "5.0      12\n",
       "Name: Rooms, dtype: int64"
      ]
     },
     "execution_count": 481,
     "metadata": {},
     "output_type": "execute_result"
    }
   ],
   "source": [
    "train['Rooms'].value_counts()"
   ]
  },
  {
   "cell_type": "markdown",
   "metadata": {},
   "source": [
    "Разобьем набор данных на группы по количеству комнат и проанализируем столбец Square для каждой группы"
   ]
  },
  {
   "cell_type": "code",
   "execution_count": 482,
   "metadata": {},
   "outputs": [
    {
     "data": {
      "text/plain": [
       "<matplotlib.axes._subplots.AxesSubplot at 0x1ab221b0>"
      ]
     },
     "execution_count": 482,
     "metadata": {},
     "output_type": "execute_result"
    },
    {
     "data": {
      "image/png": "[encoded data removed]",
      "text/plain": [
       "<Figure size 432x288 with 1 Axes>"
      ]
     },
     "metadata": {
      "needs_background": "light"
     },
     "output_type": "display_data"
    }
   ],
   "source": [
    "train_1 = train[train.Rooms==1]\n",
    "sns.boxplot(train_1['Square'], orient='v')"
   ]
  },
  {
   "cell_type": "code",
   "execution_count": 483,
   "metadata": {},
   "outputs": [
    {
     "data": {
      "text/plain": [
       "<matplotlib.axes._subplots.AxesSubplot at 0x1ab0ce90>"
      ]
     },
     "execution_count": 483,
     "metadata": {},
     "output_type": "execute_result"
    },
    {
     "data": {
      "image/png": "[encoded data removed]",
      "text/plain": [
       "<Figure size 432x288 with 1 Axes>"
      ]
     },
     "metadata": {
      "needs_background": "light"
     },
     "output_type": "display_data"
    }
   ],
   "source": [
    "plt.xlim(0, 100)\n",
    "sns.distplot(train_1['Square'])"
   ]
  },
  {
   "cell_type": "markdown",
   "metadata": {},
   "source": [
    "Видим, что основная часть 1-комнатных квартир имеет площадь  примерно от 21 до 70 кв.м. "
   ]
  },
  {
   "cell_type": "markdown",
   "metadata": {},
   "source": [
    "Проделаем то же самое для 2-х, 3-х, 4-х и 5-ти комнатных квартир"
   ]
  },
  {
   "cell_type": "code",
   "execution_count": 484,
   "metadata": {},
   "outputs": [
    {
     "data": {
      "text/plain": [
       "<matplotlib.axes._subplots.AxesSubplot at 0x1a8bfb30>"
      ]
     },
     "execution_count": 484,
     "metadata": {},
     "output_type": "execute_result"
    },
    {
     "data": {
      "image/png": "[encoded data removed]",
      "text/plain": [
       "<Figure size 432x288 with 1 Axes>"
      ]
     },
     "metadata": {
      "needs_background": "light"
     },
     "output_type": "display_data"
    }
   ],
   "source": [
    "train_2 = train[train.Rooms==2]\n",
    "sns.boxplot(train_2['Square'], orient='v')"
   ]
  },
  {
   "cell_type": "code",
   "execution_count": 485,
   "metadata": {},
   "outputs": [
    {
     "data": {
      "text/plain": [
       "<matplotlib.axes._subplots.AxesSubplot at 0x1a8a56b0>"
      ]
     },
     "execution_count": 485,
     "metadata": {},
     "output_type": "execute_result"
    },
    {
     "data": {
      "image/png": "[encoded data removed]",
      "text/plain": [
       "<Figure size 432x288 with 1 Axes>"
      ]
     },
     "metadata": {
      "needs_background": "light"
     },
     "output_type": "display_data"
    }
   ],
   "source": [
    "plt.xlim(0, 150)\n",
    "sns.distplot(train_2['Square'])"
   ]
  },
  {
   "cell_type": "code",
   "execution_count": 486,
   "metadata": {},
   "outputs": [
    {
     "data": {
      "text/plain": [
       "<matplotlib.axes._subplots.AxesSubplot at 0x19d61bb0>"
      ]
     },
     "execution_count": 486,
     "metadata": {},
     "output_type": "execute_result"
    },
    {
     "data": {
      "image/png": "[encoded data removed]",
      "text/plain": [
       "<Figure size 432x288 with 1 Axes>"
      ]
     },
     "metadata": {
      "needs_background": "light"
     },
     "output_type": "display_data"
    }
   ],
   "source": [
    "train_3 = train[train.Rooms==3]\n",
    "sns.boxplot(train_3['Square'], orient='v')"
   ]
  },
  {
   "cell_type": "code",
   "execution_count": 487,
   "metadata": {},
   "outputs": [
    {
     "data": {
      "text/plain": [
       "<matplotlib.axes._subplots.AxesSubplot at 0x19d2d070>"
      ]
     },
     "execution_count": 487,
     "metadata": {},
     "output_type": "execute_result"
    },
    {
     "data": {
      "image/png": "[encoded data removed]",
      "text/plain": [
       "<Figure size 432x288 with 1 Axes>"
      ]
     },
     "metadata": {
      "needs_background": "light"
     },
     "output_type": "display_data"
    }
   ],
   "source": [
    "plt.xlim(30, 180)\n",
    "sns.distplot(train_3['Square'])"
   ]
  },
  {
   "cell_type": "code",
   "execution_count": 488,
   "metadata": {},
   "outputs": [
    {
     "data": {
      "text/plain": [
       "<matplotlib.axes._subplots.AxesSubplot at 0x175e7570>"
      ]
     },
     "execution_count": 488,
     "metadata": {},
     "output_type": "execute_result"
    },
    {
     "data": {
      "image/png": "[encoded data removed]",
      "text/plain": [
       "<Figure size 432x288 with 1 Axes>"
      ]
     },
     "metadata": {
      "needs_background": "light"
     },
     "output_type": "display_data"
    }
   ],
   "source": [
    "train_4 = train[train.Rooms==4]\n",
    "sns.boxplot(train_4['Square'], orient='v')"
   ]
  },
  {
   "cell_type": "code",
   "execution_count": 489,
   "metadata": {},
   "outputs": [
    {
     "data": {
      "text/plain": [
       "<matplotlib.axes._subplots.AxesSubplot at 0x171a3a90>"
      ]
     },
     "execution_count": 489,
     "metadata": {},
     "output_type": "execute_result"
    },
    {
     "data": {
      "image/png": "[encoded data removed]",
      "text/plain": [
       "<Figure size 432x288 with 1 Axes>"
      ]
     },
     "metadata": {
      "needs_background": "light"
     },
     "output_type": "display_data"
    }
   ],
   "source": [
    "sns.distplot(train_4['Square'])"
   ]
  },
  {
   "cell_type": "code",
   "execution_count": 490,
   "metadata": {},
   "outputs": [
    {
     "data": {
      "text/html": [
       "<div>\n",
       "<style scoped>\n",
       "    .dataframe tbody tr th:only-of-type {\n",
       "        vertical-align: middle;\n",
       "    }\n",
       "\n",
       "    .dataframe tbody tr th {\n",
       "        vertical-align: top;\n",
       "    }\n",
       "\n",
       "    .dataframe thead th {\n",
       "        text-align: right;\n",
       "    }\n",
       "</style>\n",
       "<table border=\"1\" class=\"dataframe\">\n",
       "  <thead>\n",
       "    <tr style=\"text-align: right;\">\n",
       "      <th></th>\n",
       "      <th>Id</th>\n",
       "      <th>DistrictId</th>\n",
       "      <th>Rooms</th>\n",
       "      <th>Square</th>\n",
       "      <th>LifeSquare</th>\n",
       "      <th>KitchenSquare</th>\n",
       "      <th>Floor</th>\n",
       "      <th>HouseFloor</th>\n",
       "      <th>HouseYear</th>\n",
       "      <th>Ecology_1</th>\n",
       "      <th>Ecology_2</th>\n",
       "      <th>Ecology_3</th>\n",
       "      <th>Social_1</th>\n",
       "      <th>Social_2</th>\n",
       "      <th>Social_3</th>\n",
       "      <th>Healthcare_1</th>\n",
       "      <th>Helthcare_2</th>\n",
       "      <th>Shops_1</th>\n",
       "      <th>Shops_2</th>\n",
       "      <th>Price</th>\n",
       "    </tr>\n",
       "  </thead>\n",
       "  <tbody>\n",
       "    <tr>\n",
       "      <th>4762</th>\n",
       "      <td>4070</td>\n",
       "      <td>21</td>\n",
       "      <td>5.0</td>\n",
       "      <td>114.313752</td>\n",
       "      <td>88.492650</td>\n",
       "      <td>9.0</td>\n",
       "      <td>6</td>\n",
       "      <td>5.0</td>\n",
       "      <td>1960</td>\n",
       "      <td>0.034331</td>\n",
       "      <td>B</td>\n",
       "      <td>B</td>\n",
       "      <td>25</td>\n",
       "      <td>5487</td>\n",
       "      <td>3</td>\n",
       "      <td>NaN</td>\n",
       "      <td>0</td>\n",
       "      <td>4</td>\n",
       "      <td>B</td>\n",
       "      <td>499830.937577</td>\n",
       "    </tr>\n",
       "    <tr>\n",
       "      <th>5361</th>\n",
       "      <td>2879</td>\n",
       "      <td>78</td>\n",
       "      <td>5.0</td>\n",
       "      <td>118.871952</td>\n",
       "      <td>69.023509</td>\n",
       "      <td>10.0</td>\n",
       "      <td>15</td>\n",
       "      <td>16.0</td>\n",
       "      <td>1998</td>\n",
       "      <td>0.092291</td>\n",
       "      <td>B</td>\n",
       "      <td>B</td>\n",
       "      <td>21</td>\n",
       "      <td>4346</td>\n",
       "      <td>2</td>\n",
       "      <td>165.0</td>\n",
       "      <td>1</td>\n",
       "      <td>2</td>\n",
       "      <td>B</td>\n",
       "      <td>496026.671162</td>\n",
       "    </tr>\n",
       "    <tr>\n",
       "      <th>3268</th>\n",
       "      <td>8901</td>\n",
       "      <td>34</td>\n",
       "      <td>5.0</td>\n",
       "      <td>121.577423</td>\n",
       "      <td>114.913843</td>\n",
       "      <td>1.0</td>\n",
       "      <td>25</td>\n",
       "      <td>1.0</td>\n",
       "      <td>1977</td>\n",
       "      <td>0.069753</td>\n",
       "      <td>B</td>\n",
       "      <td>B</td>\n",
       "      <td>53</td>\n",
       "      <td>13670</td>\n",
       "      <td>4</td>\n",
       "      <td>NaN</td>\n",
       "      <td>1</td>\n",
       "      <td>11</td>\n",
       "      <td>B</td>\n",
       "      <td>455446.393758</td>\n",
       "    </tr>\n",
       "    <tr>\n",
       "      <th>8726</th>\n",
       "      <td>238</td>\n",
       "      <td>88</td>\n",
       "      <td>5.0</td>\n",
       "      <td>90.762276</td>\n",
       "      <td>70.991790</td>\n",
       "      <td>5.0</td>\n",
       "      <td>1</td>\n",
       "      <td>9.0</td>\n",
       "      <td>1972</td>\n",
       "      <td>0.127376</td>\n",
       "      <td>B</td>\n",
       "      <td>B</td>\n",
       "      <td>43</td>\n",
       "      <td>8429</td>\n",
       "      <td>3</td>\n",
       "      <td>NaN</td>\n",
       "      <td>3</td>\n",
       "      <td>9</td>\n",
       "      <td>B</td>\n",
       "      <td>289683.939174</td>\n",
       "    </tr>\n",
       "    <tr>\n",
       "      <th>4487</th>\n",
       "      <td>13434</td>\n",
       "      <td>13</td>\n",
       "      <td>5.0</td>\n",
       "      <td>183.382273</td>\n",
       "      <td>100.985505</td>\n",
       "      <td>15.0</td>\n",
       "      <td>2</td>\n",
       "      <td>6.0</td>\n",
       "      <td>1997</td>\n",
       "      <td>0.090799</td>\n",
       "      <td>B</td>\n",
       "      <td>B</td>\n",
       "      <td>74</td>\n",
       "      <td>19083</td>\n",
       "      <td>2</td>\n",
       "      <td>NaN</td>\n",
       "      <td>5</td>\n",
       "      <td>15</td>\n",
       "      <td>B</td>\n",
       "      <td>622888.825328</td>\n",
       "    </tr>\n",
       "    <tr>\n",
       "      <th>1503</th>\n",
       "      <td>1243</td>\n",
       "      <td>86</td>\n",
       "      <td>5.0</td>\n",
       "      <td>108.057398</td>\n",
       "      <td>82.723825</td>\n",
       "      <td>8.0</td>\n",
       "      <td>3</td>\n",
       "      <td>5.0</td>\n",
       "      <td>1942</td>\n",
       "      <td>0.161976</td>\n",
       "      <td>B</td>\n",
       "      <td>A</td>\n",
       "      <td>31</td>\n",
       "      <td>7010</td>\n",
       "      <td>5</td>\n",
       "      <td>4508.0</td>\n",
       "      <td>3</td>\n",
       "      <td>7</td>\n",
       "      <td>B</td>\n",
       "      <td>310305.074733</td>\n",
       "    </tr>\n",
       "    <tr>\n",
       "      <th>1422</th>\n",
       "      <td>4282</td>\n",
       "      <td>195</td>\n",
       "      <td>5.0</td>\n",
       "      <td>95.617533</td>\n",
       "      <td>62.377052</td>\n",
       "      <td>7.0</td>\n",
       "      <td>7</td>\n",
       "      <td>7.0</td>\n",
       "      <td>1940</td>\n",
       "      <td>0.015017</td>\n",
       "      <td>B</td>\n",
       "      <td>B</td>\n",
       "      <td>17</td>\n",
       "      <td>3079</td>\n",
       "      <td>59</td>\n",
       "      <td>2890.0</td>\n",
       "      <td>0</td>\n",
       "      <td>8</td>\n",
       "      <td>B</td>\n",
       "      <td>479525.147323</td>\n",
       "    </tr>\n",
       "    <tr>\n",
       "      <th>3271</th>\n",
       "      <td>6358</td>\n",
       "      <td>27</td>\n",
       "      <td>5.0</td>\n",
       "      <td>42.003293</td>\n",
       "      <td>NaN</td>\n",
       "      <td>0.0</td>\n",
       "      <td>5</td>\n",
       "      <td>12.0</td>\n",
       "      <td>1977</td>\n",
       "      <td>0.011654</td>\n",
       "      <td>B</td>\n",
       "      <td>B</td>\n",
       "      <td>4</td>\n",
       "      <td>915</td>\n",
       "      <td>0</td>\n",
       "      <td>NaN</td>\n",
       "      <td>0</td>\n",
       "      <td>0</td>\n",
       "      <td>B</td>\n",
       "      <td>112693.641769</td>\n",
       "    </tr>\n",
       "    <tr>\n",
       "      <th>4431</th>\n",
       "      <td>7594</td>\n",
       "      <td>53</td>\n",
       "      <td>5.0</td>\n",
       "      <td>39.906082</td>\n",
       "      <td>39.394024</td>\n",
       "      <td>1.0</td>\n",
       "      <td>5</td>\n",
       "      <td>1.0</td>\n",
       "      <td>1977</td>\n",
       "      <td>0.049637</td>\n",
       "      <td>B</td>\n",
       "      <td>B</td>\n",
       "      <td>34</td>\n",
       "      <td>7759</td>\n",
       "      <td>0</td>\n",
       "      <td>229.0</td>\n",
       "      <td>1</td>\n",
       "      <td>3</td>\n",
       "      <td>B</td>\n",
       "      <td>206148.845716</td>\n",
       "    </tr>\n",
       "    <tr>\n",
       "      <th>8925</th>\n",
       "      <td>4214</td>\n",
       "      <td>105</td>\n",
       "      <td>5.0</td>\n",
       "      <td>85.313605</td>\n",
       "      <td>56.686693</td>\n",
       "      <td>5.0</td>\n",
       "      <td>4</td>\n",
       "      <td>12.0</td>\n",
       "      <td>1967</td>\n",
       "      <td>0.040243</td>\n",
       "      <td>B</td>\n",
       "      <td>B</td>\n",
       "      <td>25</td>\n",
       "      <td>3478</td>\n",
       "      <td>11</td>\n",
       "      <td>2729.0</td>\n",
       "      <td>3</td>\n",
       "      <td>1</td>\n",
       "      <td>B</td>\n",
       "      <td>461678.738428</td>\n",
       "    </tr>\n",
       "    <tr>\n",
       "      <th>6988</th>\n",
       "      <td>8685</td>\n",
       "      <td>62</td>\n",
       "      <td>5.0</td>\n",
       "      <td>124.933289</td>\n",
       "      <td>81.122369</td>\n",
       "      <td>30.0</td>\n",
       "      <td>5</td>\n",
       "      <td>3.0</td>\n",
       "      <td>2017</td>\n",
       "      <td>0.072158</td>\n",
       "      <td>B</td>\n",
       "      <td>B</td>\n",
       "      <td>2</td>\n",
       "      <td>629</td>\n",
       "      <td>1</td>\n",
       "      <td>NaN</td>\n",
       "      <td>0</td>\n",
       "      <td>0</td>\n",
       "      <td>A</td>\n",
       "      <td>271919.866048</td>\n",
       "    </tr>\n",
       "    <tr>\n",
       "      <th>8659</th>\n",
       "      <td>14143</td>\n",
       "      <td>13</td>\n",
       "      <td>5.0</td>\n",
       "      <td>119.008007</td>\n",
       "      <td>69.033727</td>\n",
       "      <td>11.0</td>\n",
       "      <td>13</td>\n",
       "      <td>17.0</td>\n",
       "      <td>2001</td>\n",
       "      <td>0.090799</td>\n",
       "      <td>B</td>\n",
       "      <td>B</td>\n",
       "      <td>74</td>\n",
       "      <td>19083</td>\n",
       "      <td>2</td>\n",
       "      <td>NaN</td>\n",
       "      <td>5</td>\n",
       "      <td>15</td>\n",
       "      <td>B</td>\n",
       "      <td>434774.356335</td>\n",
       "    </tr>\n",
       "  </tbody>\n",
       "</table>\n",
       "</div>"
      ],
      "text/plain": [
       "         Id  DistrictId  Rooms      Square  LifeSquare  KitchenSquare  Floor  \\\n",
       "4762   4070          21    5.0  114.313752   88.492650            9.0      6   \n",
       "5361   2879          78    5.0  118.871952   69.023509           10.0     15   \n",
       "3268   8901          34    5.0  121.577423  114.913843            1.0     25   \n",
       "8726    238          88    5.0   90.762276   70.991790            5.0      1   \n",
       "4487  13434          13    5.0  183.382273  100.985505           15.0      2   \n",
       "1503   1243          86    5.0  108.057398   82.723825            8.0      3   \n",
       "1422   4282         195    5.0   95.617533   62.377052            7.0      7   \n",
       "3271   6358          27    5.0   42.003293         NaN            0.0      5   \n",
       "4431   7594          53    5.0   39.906082   39.394024            1.0      5   \n",
       "8925   4214         105    5.0   85.313605   56.686693            5.0      4   \n",
       "6988   8685          62    5.0  124.933289   81.122369           30.0      5   \n",
       "8659  14143          13    5.0  119.008007   69.033727           11.0     13   \n",
       "\n",
       "      HouseFloor  HouseYear  Ecology_1 Ecology_2 Ecology_3  Social_1  \\\n",
       "4762         5.0       1960   0.034331         B         B        25   \n",
       "5361        16.0       1998   0.092291         B         B        21   \n",
       "3268         1.0       1977   0.069753         B         B        53   \n",
       "8726         9.0       1972   0.127376         B         B        43   \n",
       "4487         6.0       1997   0.090799         B         B        74   \n",
       "1503         5.0       1942   0.161976         B         A        31   \n",
       "1422         7.0       1940   0.015017         B         B        17   \n",
       "3271        12.0       1977   0.011654         B         B         4   \n",
       "4431         1.0       1977   0.049637         B         B        34   \n",
       "8925        12.0       1967   0.040243         B         B        25   \n",
       "6988         3.0       2017   0.072158         B         B         2   \n",
       "8659        17.0       2001   0.090799         B         B        74   \n",
       "\n",
       "      Social_2  Social_3  Healthcare_1  Helthcare_2  Shops_1 Shops_2  \\\n",
       "4762      5487         3           NaN            0        4       B   \n",
       "5361      4346         2         165.0            1        2       B   \n",
       "3268     13670         4           NaN            1       11       B   \n",
       "8726      8429         3           NaN            3        9       B   \n",
       "4487     19083         2           NaN            5       15       B   \n",
       "1503      7010         5        4508.0            3        7       B   \n",
       "1422      3079        59        2890.0            0        8       B   \n",
       "3271       915         0           NaN            0        0       B   \n",
       "4431      7759         0         229.0            1        3       B   \n",
       "8925      3478        11        2729.0            3        1       B   \n",
       "6988       629         1           NaN            0        0       A   \n",
       "8659     19083         2           NaN            5       15       B   \n",
       "\n",
       "              Price  \n",
       "4762  499830.937577  \n",
       "5361  496026.671162  \n",
       "3268  455446.393758  \n",
       "8726  289683.939174  \n",
       "4487  622888.825328  \n",
       "1503  310305.074733  \n",
       "1422  479525.147323  \n",
       "3271  112693.641769  \n",
       "4431  206148.845716  \n",
       "8925  461678.738428  \n",
       "6988  271919.866048  \n",
       "8659  434774.356335  "
      ]
     },
     "execution_count": 490,
     "metadata": {},
     "output_type": "execute_result"
    }
   ],
   "source": [
    "train[train['Rooms']==5]"
   ]
  },
  {
   "cell_type": "markdown",
   "metadata": {},
   "source": [
    "Функция удаления строк с выбросами по площадям:"
   ]
  },
  {
   "cell_type": "code",
   "execution_count": 491,
   "metadata": {},
   "outputs": [],
   "source": [
    "def trim_square(df):\n",
    "    df = df[(df['Rooms']!=1) | (df['Square']>21) & (df['Square']<66)]\n",
    "    df = df[(df['Rooms']!=2) | (df['Square']>30) & (df['Square']<100)]\n",
    "    df = df[(df['Rooms']!=3) | (df['Square']>45) & (df['Square']<140)]\n",
    "    df = df[(df['Rooms']!=4) | (df['Square']>55)]\n",
    "    df = df[(df['Rooms']!=5) | (df['Square']>43)]\n",
    "    return df"
   ]
  },
  {
   "cell_type": "markdown",
   "metadata": {},
   "source": [
    "Для замены значений Square, которые являются выбросами, найдем среднюю стоимость 1 квадратного метра в каждой группе квартир, разбитых по району и количеству комнат. Затем для тех квартир, где площадь имеет значение-выброс, заменим это значение на стоимость этой квартиры, деленную на среднюю стоимость 1 квадратного метра для квартир в этом районе и с таким же количеством комнат"
   ]
  },
  {
   "cell_type": "code",
   "execution_count": 492,
   "metadata": {},
   "outputs": [],
   "source": [
    "def clean_square(df):\n",
    "    avg_square = df.groupby(['DistrictId', 'Rooms'], as_index=False)[['Square']].mean()\n",
    "    avg_price = df.groupby(['DistrictId', 'Rooms'], as_index=False)[['Price']].mean()\n",
    "    avg_square_price = pd.merge(avg_square, avg_price, on=['DistrictId', 'Rooms'], how='inner')\n",
    "    avg_square_price['sm_mean'] = avg_square_price['Price']/avg_square_price['Square']\n",
    "    avg_square_price = avg_square_price.loc[:, ['DistrictId', 'Rooms', 'sm_mean']]\n",
    "    if 'sm_mean' not in df.columns:\n",
    "        df = pd.merge(df, avg_square_price, on=['DistrictId', 'Rooms'], how='left')\n",
    "    df.loc[(df['Rooms']!=1) | (df['Square']>21) & (df['Square']<66), 'Square'] = df['Price']/df['sm_mean']\n",
    "    df.loc[(df['Rooms']!=2) | (df['Square']>30) & (df['Square']<100), 'Square'] = df['Price']/df['sm_mean']\n",
    "    df.loc[(df['Rooms']!=3) | (df['Square']>45) & (df['Square']<140), 'Square'] = df['Price']/df['sm_mean']\n",
    "    df.loc[(df['Rooms']!=4) | (df['Square']>55), 'Square'] = df['Price']/df['sm_mean']\n",
    "    df.loc[(df['Rooms']!=5) | (df['Square']>43), 'Square'] = df['Price']/df['sm_mean']\n",
    "    return df"
   ]
  },
  {
   "cell_type": "markdown",
   "metadata": {},
   "source": [
    "### Заполним LifeSquare"
   ]
  },
  {
   "cell_type": "markdown",
   "metadata": {},
   "source": [
    "Посчитаем на нем среднюю UnLifeSquare для каждой группы квартир, разбитых по числу комнат, в которых заполнена LifeSquare и удалены выбросы по LifeSquare. Затем для незаполненных LifeSquare рассчитаем ее как Square-UnLifeSquare"
   ]
  },
  {
   "cell_type": "markdown",
   "metadata": {},
   "source": [
    "Проверим и устраним выбросы в LifeSquare"
   ]
  },
  {
   "cell_type": "code",
   "execution_count": 493,
   "metadata": {},
   "outputs": [],
   "source": [
    "not_empty_lifesquare = train[train['LifeSquare'].notnull()]"
   ]
  },
  {
   "cell_type": "code",
   "execution_count": 494,
   "metadata": {},
   "outputs": [
    {
     "data": {
      "text/plain": [
       "<matplotlib.axes._subplots.AxesSubplot at 0x155d1f90>"
      ]
     },
     "execution_count": 494,
     "metadata": {},
     "output_type": "execute_result"
    },
    {
     "data": {
      "image/png": "[encoded data removed]",
      "text/plain": [
       "<Figure size 432x288 with 1 Axes>"
      ]
     },
     "metadata": {
      "needs_background": "light"
     },
     "output_type": "display_data"
    }
   ],
   "source": [
    "train_1 = not_empty_lifesquare[not_empty_lifesquare.Rooms==1]\n",
    "sns.boxplot(train_1['LifeSquare'], orient='v')"
   ]
  },
  {
   "cell_type": "code",
   "execution_count": 495,
   "metadata": {},
   "outputs": [
    {
     "data": {
      "text/plain": [
       "(array([  4.,  10.,  10.,  11.,   8.,  11.,   7.,   0.,   0.,   0.,   1.,\n",
       "          0.,   2.,   3.,   2.,   3.,   4.,  12.,  22.,  23.,  45.,  72.,\n",
       "        128., 198., 199., 215., 204., 178., 107.,  63.,  20.,   6.,   5.,\n",
       "         10.,   5.,   6.,  11.,   6.,   5.,   5.,   6.,   5.,   8.,   4.,\n",
       "          7.,  16.,  15.,  24.,  27.,  29.,  34.,  21.,  16.,  22.,  11.,\n",
       "         13.,  12.,   7.,  10.,   5.,   8.,  14.,   3.,   4.,   4.,   4.,\n",
       "          0.,   2.,   2.,   0.,   2.,   2.,   0.,   2.,   0.,   1.,   0.,\n",
       "          0.,   2.,   0.,   0.,   2.,   1.,   0.,   0.,   0.,   0.,   0.,\n",
       "          0.,   0.,   1.,   0.,   0.,   0.,   0.,   3.,   0.,   0.,   0.,\n",
       "          0.,   0.,   1.,   2.,   0.,   0.,   0.,   1.,   0.,   0.,   0.,\n",
       "          0.,   0.,   0.,   0.,   0.,   0.,   0.,   0.,   0.,   0.,   0.,\n",
       "          0.,   0.,   0.,   0.,   1.,   0.,   1.,   1.,   0.,   0.,   0.,\n",
       "          1.,   0.,   0.,   0.,   0.,   0.,   0.,   0.,   0.,   0.,   0.,\n",
       "          0.,   0.,   0.,   0.,   0.,   0.,   0.,   0.,   0.,   1.,   0.,\n",
       "          0.,   0.,   0.,   0.,   0.,   0.,   0.,   0.,   0.,   0.,   0.,\n",
       "          0.,   0.,   0.,   0.,   0.,   0.,   0.,   0.,   0.,   0.,   0.,\n",
       "          0.,   0.,   0.,   0.,   0.,   0.,   0.,   0.,   0.,   0.,   0.,\n",
       "          0.,   0.,   0.,   0.,   0.,   0.,   0.,   0.,   0.,   0.,   0.,\n",
       "          0.,   0.,   0.,   0.,   0.,   0.,   0.,   0.,   0.,   0.,   0.,\n",
       "          0.,   0.,   0.,   1.,   0.,   0.,   0.,   0.,   0.,   0.,   0.,\n",
       "          0.,   0.,   0.,   0.,   0.,   0.,   0.,   0.,   0.,   0.,   0.,\n",
       "          0.,   0.,   0.,   0.,   0.,   0.,   0.,   0.,   0.,   0.,   0.,\n",
       "          0.,   0.,   0.,   0.,   0.,   0.,   0.,   0.,   0.,   0.,   0.,\n",
       "          0.,   0.,   0.,   0.,   0.,   0.,   0.,   0.,   0.,   0.,   0.,\n",
       "          0.,   0.,   0.,   0.,   0.,   0.,   0.,   0.,   0.,   0.,   0.,\n",
       "          0.,   0.,   0.,   0.,   0.,   0.,   0.,   0.,   0.,   0.,   0.,\n",
       "          0.,   0.,   0.,   0.,   0.,   0.,   0.,   0.,   0.,   0.,   0.,\n",
       "          0.,   0.,   0.,   0.,   0.,   0.,   0.,   0.,   0.,   0.,   0.,\n",
       "          0.,   0.,   0.,   0.,   0.,   0.,   0.,   0.,   0.,   0.,   0.,\n",
       "          0.,   0.,   0.,   0.,   0.,   0.,   0.,   0.,   0.,   0.,   0.,\n",
       "          0.,   0.,   0.,   0.,   0.,   0.,   0.,   0.,   0.,   0.,   0.,\n",
       "          0.,   0.,   0.,   0.,   0.,   0.,   0.,   0.,   0.,   0.,   0.,\n",
       "          0.,   0.,   0.,   0.,   0.,   0.,   0.,   0.,   0.,   0.,   0.,\n",
       "          0.,   0.,   0.,   0.,   0.,   0.,   0.,   0.,   0.,   0.,   0.,\n",
       "          0.,   0.,   0.,   0.,   0.,   0.,   0.,   0.,   0.,   0.,   0.,\n",
       "          0.,   0.,   0.,   0.,   0.,   0.,   0.,   0.,   0.,   0.,   0.,\n",
       "          0.,   0.,   0.,   0.,   0.,   0.,   0.,   0.,   0.,   0.,   0.,\n",
       "          0.,   0.,   0.,   0.,   0.,   0.,   0.,   0.,   0.,   0.,   0.,\n",
       "          0.,   0.,   0.,   0.,   0.,   0.,   0.,   0.,   0.,   0.,   0.,\n",
       "          0.,   0.,   0.,   0.,   0.,   0.,   0.,   0.,   0.,   0.,   0.,\n",
       "          0.,   0.,   0.,   0.,   0.,   0.,   0.,   0.,   0.,   0.,   0.,\n",
       "          0.,   0.,   0.,   0.,   0.,   0.,   0.,   0.,   0.,   0.,   0.,\n",
       "          0.,   0.,   0.,   0.,   0.,   0.,   0.,   0.,   0.,   0.,   0.,\n",
       "          0.,   0.,   0.,   0.,   0.,   0.,   0.,   0.,   0.,   0.,   0.,\n",
       "          0.,   0.,   0.,   0.,   0.,   0.,   0.,   0.,   0.,   0.,   0.,\n",
       "          0.,   0.,   0.,   0.,   1.]),\n",
       " array([3.70619419e-01, 1.19115768e+00, 2.01169594e+00, 2.83223420e+00,\n",
       "        3.65277246e+00, 4.47331072e+00, 5.29384898e+00, 6.11438724e+00,\n",
       "        6.93492550e+00, 7.75546376e+00, 8.57600202e+00, 9.39654028e+00,\n",
       "        1.02170785e+01, 1.10376168e+01, 1.18581551e+01, 1.26786933e+01,\n",
       "        1.34992316e+01, 1.43197698e+01, 1.51403081e+01, 1.59608464e+01,\n",
       "        1.67813846e+01, 1.76019229e+01, 1.84224611e+01, 1.92429994e+01,\n",
       "        2.00635377e+01, 2.08840759e+01, 2.17046142e+01, 2.25251524e+01,\n",
       "        2.33456907e+01, 2.41662290e+01, 2.49867672e+01, 2.58073055e+01,\n",
       "        2.66278437e+01, 2.74483820e+01, 2.82689203e+01, 2.90894585e+01,\n",
       "        2.99099968e+01, 3.07305350e+01, 3.15510733e+01, 3.23716116e+01,\n",
       "        3.31921498e+01, 3.40126881e+01, 3.48332263e+01, 3.56537646e+01,\n",
       "        3.64743029e+01, 3.72948411e+01, 3.81153794e+01, 3.89359176e+01,\n",
       "        3.97564559e+01, 4.05769942e+01, 4.13975324e+01, 4.22180707e+01,\n",
       "        4.30386089e+01, 4.38591472e+01, 4.46796855e+01, 4.55002237e+01,\n",
       "        4.63207620e+01, 4.71413002e+01, 4.79618385e+01, 4.87823768e+01,\n",
       "        4.96029150e+01, 5.04234533e+01, 5.12439915e+01, 5.20645298e+01,\n",
       "        5.28850681e+01, 5.37056063e+01, 5.45261446e+01, 5.53466828e+01,\n",
       "        5.61672211e+01, 5.69877594e+01, 5.78082976e+01, 5.86288359e+01,\n",
       "        5.94493741e+01, 6.02699124e+01, 6.10904507e+01, 6.19109889e+01,\n",
       "        6.27315272e+01, 6.35520654e+01, 6.43726037e+01, 6.51931420e+01,\n",
       "        6.60136802e+01, 6.68342185e+01, 6.76547567e+01, 6.84752950e+01,\n",
       "        6.92958332e+01, 7.01163715e+01, 7.09369098e+01, 7.17574480e+01,\n",
       "        7.25779863e+01, 7.33985245e+01, 7.42190628e+01, 7.50396011e+01,\n",
       "        7.58601393e+01, 7.66806776e+01, 7.75012158e+01, 7.83217541e+01,\n",
       "        7.91422924e+01, 7.99628306e+01, 8.07833689e+01, 8.16039071e+01,\n",
       "        8.24244454e+01, 8.32449837e+01, 8.40655219e+01, 8.48860602e+01,\n",
       "        8.57065984e+01, 8.65271367e+01, 8.73476750e+01, 8.81682132e+01,\n",
       "        8.89887515e+01, 8.98092897e+01, 9.06298280e+01, 9.14503663e+01,\n",
       "        9.22709045e+01, 9.30914428e+01, 9.39119810e+01, 9.47325193e+01,\n",
       "        9.55530576e+01, 9.63735958e+01, 9.71941341e+01, 9.80146723e+01,\n",
       "        9.88352106e+01, 9.96557489e+01, 1.00476287e+02, 1.01296825e+02,\n",
       "        1.02117364e+02, 1.02937902e+02, 1.03758440e+02, 1.04578978e+02,\n",
       "        1.05399517e+02, 1.06220055e+02, 1.07040593e+02, 1.07861131e+02,\n",
       "        1.08681670e+02, 1.09502208e+02, 1.10322746e+02, 1.11143285e+02,\n",
       "        1.11963823e+02, 1.12784361e+02, 1.13604899e+02, 1.14425438e+02,\n",
       "        1.15245976e+02, 1.16066514e+02, 1.16887052e+02, 1.17707591e+02,\n",
       "        1.18528129e+02, 1.19348667e+02, 1.20169205e+02, 1.20989744e+02,\n",
       "        1.21810282e+02, 1.22630820e+02, 1.23451358e+02, 1.24271897e+02,\n",
       "        1.25092435e+02, 1.25912973e+02, 1.26733511e+02, 1.27554050e+02,\n",
       "        1.28374588e+02, 1.29195126e+02, 1.30015664e+02, 1.30836203e+02,\n",
       "        1.31656741e+02, 1.32477279e+02, 1.33297818e+02, 1.34118356e+02,\n",
       "        1.34938894e+02, 1.35759432e+02, 1.36579971e+02, 1.37400509e+02,\n",
       "        1.38221047e+02, 1.39041585e+02, 1.39862124e+02, 1.40682662e+02,\n",
       "        1.41503200e+02, 1.42323738e+02, 1.43144277e+02, 1.43964815e+02,\n",
       "        1.44785353e+02, 1.45605891e+02, 1.46426430e+02, 1.47246968e+02,\n",
       "        1.48067506e+02, 1.48888044e+02, 1.49708583e+02, 1.50529121e+02,\n",
       "        1.51349659e+02, 1.52170197e+02, 1.52990736e+02, 1.53811274e+02,\n",
       "        1.54631812e+02, 1.55452351e+02, 1.56272889e+02, 1.57093427e+02,\n",
       "        1.57913965e+02, 1.58734504e+02, 1.59555042e+02, 1.60375580e+02,\n",
       "        1.61196118e+02, 1.62016657e+02, 1.62837195e+02, 1.63657733e+02,\n",
       "        1.64478271e+02, 1.65298810e+02, 1.66119348e+02, 1.66939886e+02,\n",
       "        1.67760424e+02, 1.68580963e+02, 1.69401501e+02, 1.70222039e+02,\n",
       "        1.71042577e+02, 1.71863116e+02, 1.72683654e+02, 1.73504192e+02,\n",
       "        1.74324731e+02, 1.75145269e+02, 1.75965807e+02, 1.76786345e+02,\n",
       "        1.77606884e+02, 1.78427422e+02, 1.79247960e+02, 1.80068498e+02,\n",
       "        1.80889037e+02, 1.81709575e+02, 1.82530113e+02, 1.83350651e+02,\n",
       "        1.84171190e+02, 1.84991728e+02, 1.85812266e+02, 1.86632804e+02,\n",
       "        1.87453343e+02, 1.88273881e+02, 1.89094419e+02, 1.89914957e+02,\n",
       "        1.90735496e+02, 1.91556034e+02, 1.92376572e+02, 1.93197110e+02,\n",
       "        1.94017649e+02, 1.94838187e+02, 1.95658725e+02, 1.96479264e+02,\n",
       "        1.97299802e+02, 1.98120340e+02, 1.98940878e+02, 1.99761417e+02,\n",
       "        2.00581955e+02, 2.01402493e+02, 2.02223031e+02, 2.03043570e+02,\n",
       "        2.03864108e+02, 2.04684646e+02, 2.05505184e+02, 2.06325723e+02,\n",
       "        2.07146261e+02, 2.07966799e+02, 2.08787337e+02, 2.09607876e+02,\n",
       "        2.10428414e+02, 2.11248952e+02, 2.12069490e+02, 2.12890029e+02,\n",
       "        2.13710567e+02, 2.14531105e+02, 2.15351644e+02, 2.16172182e+02,\n",
       "        2.16992720e+02, 2.17813258e+02, 2.18633797e+02, 2.19454335e+02,\n",
       "        2.20274873e+02, 2.21095411e+02, 2.21915950e+02, 2.22736488e+02,\n",
       "        2.23557026e+02, 2.24377564e+02, 2.25198103e+02, 2.26018641e+02,\n",
       "        2.26839179e+02, 2.27659717e+02, 2.28480256e+02, 2.29300794e+02,\n",
       "        2.30121332e+02, 2.30941870e+02, 2.31762409e+02, 2.32582947e+02,\n",
       "        2.33403485e+02, 2.34224023e+02, 2.35044562e+02, 2.35865100e+02,\n",
       "        2.36685638e+02, 2.37506177e+02, 2.38326715e+02, 2.39147253e+02,\n",
       "        2.39967791e+02, 2.40788330e+02, 2.41608868e+02, 2.42429406e+02,\n",
       "        2.43249944e+02, 2.44070483e+02, 2.44891021e+02, 2.45711559e+02,\n",
       "        2.46532097e+02, 2.47352636e+02, 2.48173174e+02, 2.48993712e+02,\n",
       "        2.49814250e+02, 2.50634789e+02, 2.51455327e+02, 2.52275865e+02,\n",
       "        2.53096403e+02, 2.53916942e+02, 2.54737480e+02, 2.55558018e+02,\n",
       "        2.56378557e+02, 2.57199095e+02, 2.58019633e+02, 2.58840171e+02,\n",
       "        2.59660710e+02, 2.60481248e+02, 2.61301786e+02, 2.62122324e+02,\n",
       "        2.62942863e+02, 2.63763401e+02, 2.64583939e+02, 2.65404477e+02,\n",
       "        2.66225016e+02, 2.67045554e+02, 2.67866092e+02, 2.68686630e+02,\n",
       "        2.69507169e+02, 2.70327707e+02, 2.71148245e+02, 2.71968783e+02,\n",
       "        2.72789322e+02, 2.73609860e+02, 2.74430398e+02, 2.75250936e+02,\n",
       "        2.76071475e+02, 2.76892013e+02, 2.77712551e+02, 2.78533090e+02,\n",
       "        2.79353628e+02, 2.80174166e+02, 2.80994704e+02, 2.81815243e+02,\n",
       "        2.82635781e+02, 2.83456319e+02, 2.84276857e+02, 2.85097396e+02,\n",
       "        2.85917934e+02, 2.86738472e+02, 2.87559010e+02, 2.88379549e+02,\n",
       "        2.89200087e+02, 2.90020625e+02, 2.90841163e+02, 2.91661702e+02,\n",
       "        2.92482240e+02, 2.93302778e+02, 2.94123316e+02, 2.94943855e+02,\n",
       "        2.95764393e+02, 2.96584931e+02, 2.97405469e+02, 2.98226008e+02,\n",
       "        2.99046546e+02, 2.99867084e+02, 3.00687623e+02, 3.01508161e+02,\n",
       "        3.02328699e+02, 3.03149237e+02, 3.03969776e+02, 3.04790314e+02,\n",
       "        3.05610852e+02, 3.06431390e+02, 3.07251929e+02, 3.08072467e+02,\n",
       "        3.08893005e+02, 3.09713543e+02, 3.10534082e+02, 3.11354620e+02,\n",
       "        3.12175158e+02, 3.12995696e+02, 3.13816235e+02, 3.14636773e+02,\n",
       "        3.15457311e+02, 3.16277849e+02, 3.17098388e+02, 3.17918926e+02,\n",
       "        3.18739464e+02, 3.19560003e+02, 3.20380541e+02, 3.21201079e+02,\n",
       "        3.22021617e+02, 3.22842156e+02, 3.23662694e+02, 3.24483232e+02,\n",
       "        3.25303770e+02, 3.26124309e+02, 3.26944847e+02, 3.27765385e+02,\n",
       "        3.28585923e+02, 3.29406462e+02, 3.30227000e+02, 3.31047538e+02,\n",
       "        3.31868076e+02, 3.32688615e+02, 3.33509153e+02, 3.34329691e+02,\n",
       "        3.35150229e+02, 3.35970768e+02, 3.36791306e+02, 3.37611844e+02,\n",
       "        3.38432382e+02, 3.39252921e+02, 3.40073459e+02, 3.40893997e+02,\n",
       "        3.41714536e+02, 3.42535074e+02, 3.43355612e+02, 3.44176150e+02,\n",
       "        3.44996689e+02, 3.45817227e+02, 3.46637765e+02, 3.47458303e+02,\n",
       "        3.48278842e+02, 3.49099380e+02, 3.49919918e+02, 3.50740456e+02,\n",
       "        3.51560995e+02, 3.52381533e+02, 3.53202071e+02, 3.54022609e+02,\n",
       "        3.54843148e+02, 3.55663686e+02, 3.56484224e+02, 3.57304762e+02,\n",
       "        3.58125301e+02, 3.58945839e+02, 3.59766377e+02, 3.60586916e+02,\n",
       "        3.61407454e+02, 3.62227992e+02, 3.63048530e+02, 3.63869069e+02,\n",
       "        3.64689607e+02, 3.65510145e+02, 3.66330683e+02, 3.67151222e+02,\n",
       "        3.67971760e+02, 3.68792298e+02, 3.69612836e+02, 3.70433375e+02,\n",
       "        3.71253913e+02, 3.72074451e+02, 3.72894989e+02, 3.73715528e+02,\n",
       "        3.74536066e+02, 3.75356604e+02, 3.76177142e+02, 3.76997681e+02,\n",
       "        3.77818219e+02, 3.78638757e+02, 3.79459295e+02, 3.80279834e+02,\n",
       "        3.81100372e+02, 3.81920910e+02, 3.82741449e+02, 3.83561987e+02,\n",
       "        3.84382525e+02, 3.85203063e+02, 3.86023602e+02, 3.86844140e+02,\n",
       "        3.87664678e+02, 3.88485216e+02, 3.89305755e+02, 3.90126293e+02,\n",
       "        3.90946831e+02, 3.91767369e+02, 3.92587908e+02, 3.93408446e+02,\n",
       "        3.94228984e+02, 3.95049522e+02, 3.95870061e+02, 3.96690599e+02,\n",
       "        3.97511137e+02, 3.98331675e+02, 3.99152214e+02, 3.99972752e+02,\n",
       "        4.00793290e+02, 4.01613829e+02, 4.02434367e+02, 4.03254905e+02,\n",
       "        4.04075443e+02, 4.04895982e+02, 4.05716520e+02, 4.06537058e+02,\n",
       "        4.07357596e+02, 4.08178135e+02, 4.08998673e+02, 4.09819211e+02,\n",
       "        4.10639749e+02]),\n",
       " <a list of 500 Patch objects>)"
      ]
     },
     "execution_count": 495,
     "metadata": {},
     "output_type": "execute_result"
    },
    {
     "data": {
      "image/png": "[encoded data removed]",
      "text/plain": [
       "<Figure size 432x288 with 1 Axes>"
      ]
     },
     "metadata": {
      "needs_background": "light"
     },
     "output_type": "display_data"
    }
   ],
   "source": [
    "plt.xlim(0, 60)\n",
    "plt.hist(train_1['LifeSquare'], bins=500)"
   ]
  },
  {
   "cell_type": "markdown",
   "metadata": {},
   "source": [
    "Для 1 комнатных квартир устраняем выбросы ниже 10 кв м и выше 55 кв м"
   ]
  },
  {
   "cell_type": "code",
   "execution_count": 496,
   "metadata": {
    "scrolled": true
   },
   "outputs": [
    {
     "data": {
      "text/plain": [
       "<matplotlib.axes._subplots.AxesSubplot at 0x1c66ec50>"
      ]
     },
     "execution_count": 496,
     "metadata": {},
     "output_type": "execute_result"
    },
    {
     "data": {
      "image/png": "[encoded data removed]",
      "text/plain": [
       "<Figure size 432x288 with 1 Axes>"
      ]
     },
     "metadata": {
      "needs_background": "light"
     },
     "output_type": "display_data"
    }
   ],
   "source": [
    "train_2 = not_empty_lifesquare[not_empty_lifesquare.Rooms==2]\n",
    "sns.boxplot(train_2['LifeSquare'], orient='v')"
   ]
  },
  {
   "cell_type": "code",
   "execution_count": 497,
   "metadata": {
    "scrolled": true
   },
   "outputs": [
    {
     "data": {
      "text/plain": [
       "(array([ 11.,  12.,  10.,   8.,  14.,   0.,   0.,   0.,   0.,   0.,   1.,\n",
       "          0.,   0.,   0.,   1.,   0.,   1.,   0.,   1.,   1.,   7.,  27.,\n",
       "         30.,  29.,  47.,  51.,  91., 104., 142., 190., 190., 222., 203.,\n",
       "        132.,  97.,  73.,  38.,  25.,  18.,  20.,  10.,  12.,   8.,   7.,\n",
       "          4.,   5.,   7.,   5.,   2.,   4.,   7.,   7.,  16.,  11.,   7.,\n",
       "         10.,  10.,  11.,  15.,  26.,  18.,  12.,  12.,  12.,  14.,  13.,\n",
       "          5.,   5.,   2.,   1.,   5.,   1.,   7.,   4.,   2.,   3.,   4.,\n",
       "          4.,   1.,   5.,   2.,   2.,   1.,   0.,   2.,   1.,   2.,   1.,\n",
       "          0.,   1.,   1.,   0.,   0.,   0.,   0.,   0.,   0.,   0.,   1.,\n",
       "          2.]), array([  0.79553947,   1.80782861,   2.82011775,   3.83240689,\n",
       "          4.84469604,   5.85698518,   6.86927432,   7.88156346,\n",
       "          8.8938526 ,   9.90614175,  10.91843089,  11.93072003,\n",
       "         12.94300917,  13.95529832,  14.96758746,  15.9798766 ,\n",
       "         16.99216574,  18.00445488,  19.01674403,  20.02903317,\n",
       "         21.04132231,  22.05361145,  23.06590059,  24.07818974,\n",
       "         25.09047888,  26.10276802,  27.11505716,  28.12734631,\n",
       "         29.13963545,  30.15192459,  31.16421373,  32.17650287,\n",
       "         33.18879202,  34.20108116,  35.2133703 ,  36.22565944,\n",
       "         37.23794859,  38.25023773,  39.26252687,  40.27481601,\n",
       "         41.28710515,  42.2993943 ,  43.31168344,  44.32397258,\n",
       "         45.33626172,  46.34855086,  47.36084001,  48.37312915,\n",
       "         49.38541829,  50.39770743,  51.40999658,  52.42228572,\n",
       "         53.43457486,  54.446864  ,  55.45915314,  56.47144229,\n",
       "         57.48373143,  58.49602057,  59.50830971,  60.52059885,\n",
       "         61.532888  ,  62.54517714,  63.55746628,  64.56975542,\n",
       "         65.58204457,  66.59433371,  67.60662285,  68.61891199,\n",
       "         69.63120113,  70.64349028,  71.65577942,  72.66806856,\n",
       "         73.6803577 ,  74.69264684,  75.70493599,  76.71722513,\n",
       "         77.72951427,  78.74180341,  79.75409256,  80.7663817 ,\n",
       "         81.77867084,  82.79095998,  83.80324912,  84.81553827,\n",
       "         85.82782741,  86.84011655,  87.85240569,  88.86469483,\n",
       "         89.87698398,  90.88927312,  91.90156226,  92.9138514 ,\n",
       "         93.92614055,  94.93842969,  95.95071883,  96.96300797,\n",
       "         97.97529711,  98.98758626,  99.9998754 , 101.01216454,\n",
       "        102.02445368]), <a list of 100 Patch objects>)"
      ]
     },
     "execution_count": 497,
     "metadata": {},
     "output_type": "execute_result"
    },
    {
     "data": {
      "image/png": "[encoded data removed]",
      "text/plain": [
       "<Figure size 432x288 with 1 Axes>"
      ]
     },
     "metadata": {
      "needs_background": "light"
     },
     "output_type": "display_data"
    }
   ],
   "source": [
    "plt.xlim(0, 100)\n",
    "plt.hist(train_2['LifeSquare'], bins=100)"
   ]
  },
  {
   "cell_type": "markdown",
   "metadata": {},
   "source": [
    "Для 2 комнатных квартир устраняем выбросы ниже 20 кв м и выше 70 кв м"
   ]
  },
  {
   "cell_type": "code",
   "execution_count": 498,
   "metadata": {},
   "outputs": [
    {
     "data": {
      "text/plain": [
       "<matplotlib.axes._subplots.AxesSubplot at 0x1c78eeb0>"
      ]
     },
     "execution_count": 498,
     "metadata": {},
     "output_type": "execute_result"
    },
    {
     "data": {
      "image/png": "[encoded data removed]",
      "text/plain": [
       "<Figure size 432x288 with 1 Axes>"
      ]
     },
     "metadata": {
      "needs_background": "light"
     },
     "output_type": "display_data"
    }
   ],
   "source": [
    "train_3 = not_empty_lifesquare[not_empty_lifesquare.Rooms==3]\n",
    "sns.boxplot(train_3['LifeSquare'], orient='v')"
   ]
  },
  {
   "cell_type": "code",
   "execution_count": 499,
   "metadata": {
    "scrolled": true
   },
   "outputs": [
    {
     "data": {
      "text/plain": [
       "(array([ 19.,   0.,   1.,   2.,  62., 407., 510.,  93.,  31.,  33.,  63.,\n",
       "         27.,  14.,   8.,   5.,   3.,   5.,   0.,   3.,   0.,   1.,   2.,\n",
       "          0.,   0.,   0.,   0.,   0.,   0.,   0.,   0.,   0.,   0.,   0.,\n",
       "          0.,   0.,   0.,   0.,   0.,   0.,   0.,   0.,   0.,   0.,   0.,\n",
       "          0.,   0.,   0.,   0.,   0.,   0.,   0.,   0.,   0.,   0.,   0.,\n",
       "          0.,   0.,   0.,   0.,   0.,   0.,   1.,   0.,   0.,   0.,   0.,\n",
       "          0.,   0.,   0.,   0.,   0.,   0.,   0.,   0.,   0.,   0.,   0.,\n",
       "          0.,   0.,   0.,   0.,   0.,   0.,   0.,   0.,   0.,   0.,   0.,\n",
       "          0.,   0.,   0.,   0.,   0.,   0.,   0.,   0.,   0.,   0.,   0.,\n",
       "          0.,   0.,   0.,   0.,   0.,   0.,   0.,   0.,   0.,   0.,   0.,\n",
       "          0.,   0.,   0.,   0.,   0.,   0.,   0.,   0.,   0.,   0.,   0.,\n",
       "          0.,   0.,   0.,   0.,   0.,   0.,   0.,   0.,   0.,   0.,   0.,\n",
       "          0.,   0.,   0.,   0.,   0.,   0.,   0.,   0.,   0.,   0.,   0.,\n",
       "          0.,   0.,   0.,   0.,   0.,   0.,   0.,   0.,   0.,   0.,   0.,\n",
       "          0.,   0.,   0.,   0.,   0.,   0.,   0.,   0.,   0.,   0.,   0.,\n",
       "          0.,   0.,   0.,   0.,   0.,   0.,   0.,   0.,   0.,   0.,   0.,\n",
       "          0.,   0.,   0.,   0.,   0.,   0.,   0.,   0.,   0.,   0.,   0.,\n",
       "          0.,   0.,   0.,   0.,   0.,   0.,   0.,   0.,   0.,   0.,   0.,\n",
       "          0.,   0.,   0.,   0.,   0.,   0.,   0.,   0.,   0.,   0.,   0.,\n",
       "          0.,   0.,   0.,   0.,   0.,   0.,   0.,   0.,   0.,   0.,   0.,\n",
       "          0.,   0.,   0.,   0.,   0.,   0.,   0.,   0.,   0.,   0.,   0.,\n",
       "          0.,   0.,   0.,   0.,   0.,   0.,   0.,   0.,   0.,   0.,   0.,\n",
       "          0.,   0.,   0.,   0.,   0.,   0.,   0.,   0.,   0.,   0.,   0.,\n",
       "          0.,   0.,   0.,   0.,   0.,   0.,   0.,   0.,   0.,   0.,   0.,\n",
       "          0.,   0.,   0.,   0.,   0.,   0.,   0.,   0.,   0.,   0.,   0.,\n",
       "          0.,   0.,   0.,   0.,   0.,   0.,   0.,   0.,   0.,   0.,   0.,\n",
       "          0.,   0.,   0.,   0.,   0.,   0.,   0.,   0.,   0.,   0.,   0.,\n",
       "          0.,   0.,   0.,   0.,   0.,   0.,   0.,   0.,   0.,   0.,   0.,\n",
       "          0.,   0.,   0.,   0.,   0.,   0.,   0.,   0.,   0.,   0.,   0.,\n",
       "          0.,   0.,   0.,   0.,   0.,   0.,   0.,   0.,   0.,   0.,   0.,\n",
       "          0.,   0.,   0.,   0.,   0.,   0.,   0.,   0.,   0.,   0.,   0.,\n",
       "          0.,   0.,   0.,   0.,   0.,   0.,   0.,   0.,   0.,   0.,   0.,\n",
       "          0.,   0.,   0.,   0.,   0.,   0.,   0.,   0.,   0.,   0.,   0.,\n",
       "          0.,   0.,   0.,   0.,   0.,   0.,   0.,   0.,   0.,   0.,   0.,\n",
       "          0.,   0.,   0.,   0.,   0.,   0.,   0.,   0.,   0.,   0.,   0.,\n",
       "          0.,   0.,   0.,   0.,   0.,   0.,   0.,   0.,   0.,   0.,   0.,\n",
       "          0.,   0.,   0.,   0.,   0.,   0.,   0.,   0.,   0.,   0.,   0.,\n",
       "          0.,   0.,   0.,   0.,   0.,   0.,   0.,   0.,   0.,   0.,   0.,\n",
       "          0.,   0.,   0.,   0.,   0.,   0.,   0.,   0.,   0.,   0.,   0.,\n",
       "          0.,   0.,   0.,   0.,   0.,   0.,   0.,   0.,   0.,   0.,   0.,\n",
       "          0.,   0.,   0.,   0.,   0.,   0.,   0.,   0.,   0.,   0.,   0.,\n",
       "          0.,   0.,   0.,   0.,   0.,   0.,   0.,   0.,   0.,   0.,   0.,\n",
       "          0.,   0.,   0.,   0.,   0.,   0.,   0.,   0.,   0.,   0.,   0.,\n",
       "          0.,   0.,   0.,   0.,   0.,   0.,   0.,   0.,   0.,   0.,   0.,\n",
       "          0.,   0.,   0.,   0.,   0.,   0.,   0.,   0.,   0.,   0.,   0.,\n",
       "          0.,   0.,   0.,   0.,   0.,   0.,   0.,   0.,   0.,   0.,   0.,\n",
       "          0.,   0.,   0.,   0.,   0.,   0.,   0.,   0.,   0.,   0.,   0.,\n",
       "          0.,   0.,   0.,   0.,   0.,   0.,   0.,   0.,   0.,   0.,   0.,\n",
       "          0.,   0.,   0.,   0.,   0.,   0.,   0.,   0.,   0.,   0.,   0.,\n",
       "          0.,   0.,   0.,   0.,   0.,   0.,   0.,   0.,   0.,   0.,   0.,\n",
       "          0.,   0.,   0.,   0.,   0.,   0.,   0.,   0.,   0.,   0.,   0.,\n",
       "          0.,   0.,   0.,   0.,   0.,   0.,   0.,   0.,   0.,   0.,   0.,\n",
       "          0.,   0.,   0.,   0.,   0.,   0.,   0.,   0.,   0.,   0.,   0.,\n",
       "          0.,   0.,   0.,   0.,   0.,   0.,   0.,   0.,   0.,   0.,   0.,\n",
       "          0.,   0.,   0.,   0.,   0.,   0.,   0.,   0.,   0.,   0.,   0.,\n",
       "          0.,   0.,   0.,   0.,   0.,   0.,   0.,   0.,   0.,   0.,   0.,\n",
       "          0.,   0.,   0.,   0.,   0.,   0.,   0.,   0.,   0.,   0.,   0.,\n",
       "          0.,   0.,   0.,   0.,   0.,   0.,   0.,   0.,   0.,   0.,   0.,\n",
       "          0.,   0.,   0.,   0.,   0.,   0.,   0.,   0.,   0.,   0.,   0.,\n",
       "          0.,   0.,   0.,   0.,   0.,   0.,   0.,   0.,   0.,   0.,   0.,\n",
       "          0.,   0.,   0.,   0.,   0.,   0.,   0.,   0.,   0.,   0.,   0.,\n",
       "          0.,   0.,   0.,   0.,   0.,   0.,   0.,   0.,   0.,   0.,   0.,\n",
       "          0.,   0.,   0.,   0.,   0.,   0.,   0.,   0.,   0.,   0.,   0.,\n",
       "          0.,   0.,   0.,   0.,   0.,   0.,   0.,   0.,   0.,   0.,   0.,\n",
       "          0.,   0.,   0.,   0.,   0.,   0.,   0.,   0.,   0.,   0.,   0.,\n",
       "          0.,   0.,   0.,   0.,   0.,   0.,   0.,   0.,   0.,   0.,   0.,\n",
       "          0.,   0.,   0.,   0.,   0.,   0.,   0.,   0.,   0.,   0.,   0.,\n",
       "          0.,   0.,   0.,   0.,   0.,   0.,   0.,   0.,   0.,   0.,   0.,\n",
       "          0.,   0.,   0.,   0.,   0.,   0.,   0.,   0.,   0.,   0.,   0.,\n",
       "          0.,   0.,   0.,   0.,   0.,   0.,   0.,   0.,   0.,   0.,   0.,\n",
       "          0.,   0.,   0.,   0.,   0.,   0.,   0.,   0.,   0.,   0.,   0.,\n",
       "          0.,   0.,   0.,   0.,   0.,   0.,   0.,   0.,   0.,   0.,   0.,\n",
       "          0.,   0.,   0.,   0.,   0.,   0.,   0.,   0.,   0.,   0.,   0.,\n",
       "          0.,   0.,   0.,   0.,   0.,   0.,   0.,   0.,   0.,   0.,   0.,\n",
       "          0.,   0.,   0.,   0.,   0.,   0.,   0.,   0.,   0.,   0.,   0.,\n",
       "          0.,   0.,   0.,   0.,   0.,   0.,   0.,   0.,   0.,   0.,   0.,\n",
       "          0.,   0.,   0.,   0.,   0.,   0.,   0.,   0.,   0.,   0.,   0.,\n",
       "          0.,   0.,   0.,   0.,   0.,   0.,   0.,   0.,   0.,   0.,   0.,\n",
       "          0.,   0.,   0.,   0.,   0.,   0.,   0.,   0.,   0.,   0.,   0.,\n",
       "          0.,   0.,   0.,   0.,   0.,   0.,   0.,   0.,   0.,   0.,   0.,\n",
       "          0.,   0.,   0.,   0.,   0.,   0.,   0.,   0.,   0.,   0.,   0.,\n",
       "          0.,   0.,   0.,   0.,   0.,   0.,   0.,   0.,   0.,   0.,   0.,\n",
       "          0.,   0.,   0.,   0.,   0.,   0.,   0.,   0.,   0.,   0.,   0.,\n",
       "          0.,   0.,   0.,   0.,   0.,   0.,   0.,   0.,   0.,   0.,   0.,\n",
       "          0.,   0.,   0.,   0.,   0.,   0.,   0.,   0.,   0.,   0.,   0.,\n",
       "          0.,   0.,   0.,   0.,   0.,   0.,   0.,   0.,   0.,   0.,   0.,\n",
       "          0.,   0.,   0.,   0.,   0.,   0.,   0.,   0.,   0.,   0.,   0.,\n",
       "          0.,   0.,   0.,   0.,   0.,   0.,   0.,   0.,   0.,   0.,   0.,\n",
       "          0.,   0.,   0.,   0.,   0.,   0.,   0.,   0.,   0.,   0.,   0.,\n",
       "          0.,   0.,   0.,   0.,   0.,   0.,   0.,   0.,   0.,   0.,   0.,\n",
       "          0.,   0.,   0.,   0.,   0.,   0.,   0.,   0.,   0.,   1.]),\n",
       " array([6.41822108e-01, 8.12177241e+00, 1.56017227e+01, ...,\n",
       "        7.46563223e+03, 7.47311218e+03, 7.48059213e+03]),\n",
       " <a list of 1000 Patch objects>)"
      ]
     },
     "execution_count": 499,
     "metadata": {},
     "output_type": "execute_result"
    },
    {
     "data": {
      "image/png": "[encoded data removed]",
      "text/plain": [
       "<Figure size 432x288 with 1 Axes>"
      ]
     },
     "metadata": {
      "needs_background": "light"
     },
     "output_type": "display_data"
    }
   ],
   "source": [
    "plt.xlim(0, 120)\n",
    "plt.hist(train_3['LifeSquare'], bins=1000)"
   ]
  },
  {
   "cell_type": "markdown",
   "metadata": {},
   "source": [
    "Для 3 комнатных квартир устраняем выбросы ниже 30 кв м и выше 100 кв м"
   ]
  },
  {
   "cell_type": "code",
   "execution_count": 500,
   "metadata": {
    "scrolled": false
   },
   "outputs": [
    {
     "data": {
      "text/plain": [
       "<matplotlib.axes._subplots.AxesSubplot at 0x1cd58cf0>"
      ]
     },
     "execution_count": 500,
     "metadata": {},
     "output_type": "execute_result"
    },
    {
     "data": {
      "image/png": "[encoded data removed]",
      "text/plain": [
       "<Figure size 432x288 with 1 Axes>"
      ]
     },
     "metadata": {
      "needs_background": "light"
     },
     "output_type": "display_data"
    }
   ],
   "source": [
    "train_4 = not_empty_lifesquare[not_empty_lifesquare.Rooms==4]\n",
    "sns.boxplot(train_4['LifeSquare'], orient='v')"
   ]
  },
  {
   "cell_type": "code",
   "execution_count": 501,
   "metadata": {},
   "outputs": [
    {
     "data": {
      "text/plain": [
       "(array([ 2.,  0.,  0.,  0., 18., 19., 34., 14.,  4.,  5.,  1.,  1.,  1.,\n",
       "         0.,  0.,  0.,  0.,  0.,  0.,  1.]),\n",
       " array([  1.45184596,  11.46062171,  21.46939746,  31.47817321,\n",
       "         41.48694896,  51.49572471,  61.50450046,  71.51327621,\n",
       "         81.52205196,  91.53082771, 101.53960346, 111.54837921,\n",
       "        121.55715496, 131.56593071, 141.57470645, 151.5834822 ,\n",
       "        161.59225795, 171.6010337 , 181.60980945, 191.6185852 ,\n",
       "        201.62736095]),\n",
       " <a list of 20 Patch objects>)"
      ]
     },
     "execution_count": 501,
     "metadata": {},
     "output_type": "execute_result"
    },
    {
     "data": {
      "image/png": "[encoded data removed]",
      "text/plain": [
       "<Figure size 432x288 with 1 Axes>"
      ]
     },
     "metadata": {
      "needs_background": "light"
     },
     "output_type": "display_data"
    }
   ],
   "source": [
    "plt.xlim(0, 180)\n",
    "plt.hist(train_4['LifeSquare'], bins=20)"
   ]
  },
  {
   "cell_type": "code",
   "execution_count": 502,
   "metadata": {},
   "outputs": [
    {
     "ename": "SyntaxError",
     "evalue": "invalid syntax (<ipython-input-502-f05ed7f5120b>, line 1)",
     "output_type": "error",
     "traceback": [
      "\u001b[1;36m  File \u001b[1;32m\"<ipython-input-502-f05ed7f5120b>\"\u001b[1;36m, line \u001b[1;32m1\u001b[0m\n\u001b[1;33m    Для 4 комнатных квартир устраняем выбросы ниже 40 кв м и выше 130 кв м\u001b[0m\n\u001b[1;37m        ^\u001b[0m\n\u001b[1;31mSyntaxError\u001b[0m\u001b[1;31m:\u001b[0m invalid syntax\n"
     ]
    }
   ],
   "source": [
    "Для 4 комнатных квартир устраняем выбросы ниже 40 кв м и выше 130 кв м"
   ]
  },
  {
   "cell_type": "code",
   "execution_count": null,
   "metadata": {},
   "outputs": [],
   "source": [
    "train_5 = not_empty_lifesquare[not_empty_lifesquare.Rooms==5]\n",
    "sns.boxplot(train_5['LifeSquare'], orient='v')"
   ]
  },
  {
   "cell_type": "markdown",
   "metadata": {},
   "source": [
    "В 5-комнатных LifSquare ок"
   ]
  },
  {
   "cell_type": "code",
   "execution_count": 503,
   "metadata": {},
   "outputs": [],
   "source": [
    "def trim_lifesquare(df):\n",
    "    df = df[(df['Rooms']!=1) | (df['LifeSquare']>10) & (df['LifeSquare']<55)]\n",
    "    df = df[(df['Rooms']!=2) | (df['LifeSquare']>20) & (df['LifeSquare']<70)]\n",
    "    df = df[(df['Rooms']!=3) | (df['LifeSquare']>30) & (df['LifeSquare']<100)]\n",
    "    df = df[(df['Rooms']!=4) | (df['LifeSquare']>40) & (df['LifeSquare']<130)]\n",
    "    return df"
   ]
  },
  {
   "cell_type": "markdown",
   "metadata": {},
   "source": [
    "Функция для заполнения пустых LifeSquare"
   ]
  },
  {
   "cell_type": "code",
   "execution_count": 504,
   "metadata": {},
   "outputs": [],
   "source": [
    "def fill_empty_lifesquare(df):\n",
    "    not_empty_lifesquare = df[df['LifeSquare'].notnull()]\n",
    "    not_empty_lifesquare = trim_lifesquare (not_empty_lifesquare)\n",
    "    mean_square = not_empty_lifesquare.groupby('Rooms', as_index=False)['Square'].mean()\n",
    "    mean_lifesquare = not_empty_lifesquare.groupby('Rooms', as_index=False)['LifeSquare'].mean()\n",
    "    mean_unlife_square = pd.merge(mean_square, mean_lifesquare, on = 'Rooms', how='inner')\n",
    "    mean_unlife_square['mean_unlife_square'] = mean_unlife_square['Square'] - mean_unlife_square['LifeSquare']\n",
    "    mean_unlife_square = mean_unlife_square.loc[:, ['Rooms', 'mean_unlife_square']]\n",
    "    if 'mean_unlife_square' not in df.columns:\n",
    "        df = pd.merge(df, mean_unlife_square, on = 'Rooms', how='left')\n",
    "    df.loc[df['LifeSquare'].isnull(), 'LifeSquare'] = df['Square'] - df['mean_unlife_square']\n",
    "    return df"
   ]
  },
  {
   "cell_type": "markdown",
   "metadata": {},
   "source": [
    "А теперь очистим LifeSquare на всем наборе данных от выбросов"
   ]
  },
  {
   "cell_type": "code",
   "execution_count": 505,
   "metadata": {},
   "outputs": [],
   "source": [
    "def clean_lifesquare(df):\n",
    "    df.loc[(df['Rooms']!=1) | (df['LifeSquare']>10) & (df['LifeSquare']<55), 'LifeSquare'] = df['Square'] - df['mean_unlife_square']\n",
    "    df.loc[(df['Rooms']!=2) | (df['LifeSquare']>20) & (df['LifeSquare']<70), 'LifeSquare'] = df['Square'] - df['mean_unlife_square']\n",
    "    df.loc[(df['Rooms']!=3) | (df['LifeSquare']>30) & (df['LifeSquare']<100), 'LifeSquare'] = df['Square'] - df['mean_unlife_square']\n",
    "    df.loc[(df['Rooms']!=4) | (df['LifeSquare']>40) & (df['LifeSquare']<130), 'LifeSquare'] = df['Square'] - df['mean_unlife_square']\n",
    "    return df"
   ]
  },
  {
   "cell_type": "markdown",
   "metadata": {},
   "source": [
    "#### Анализ выбросов в KitchenSquare"
   ]
  },
  {
   "cell_type": "code",
   "execution_count": 506,
   "metadata": {},
   "outputs": [
    {
     "data": {
      "text/plain": [
       "<matplotlib.axes._subplots.AxesSubplot at 0x1cdf1c30>"
      ]
     },
     "execution_count": 506,
     "metadata": {},
     "output_type": "execute_result"
    },
    {
     "data": {
      "image/png": "[encoded data removed]",
      "text/plain": [
       "<Figure size 432x288 with 1 Axes>"
      ]
     },
     "metadata": {
      "needs_background": "light"
     },
     "output_type": "display_data"
    }
   ],
   "source": [
    "sns.boxplot(train_trim_square['KitchenSquare'], orient='v')"
   ]
  },
  {
   "cell_type": "code",
   "execution_count": 507,
   "metadata": {
    "scrolled": true
   },
   "outputs": [
    {
     "data": {
      "text/plain": [
       "(array([ 473.,    0.,    0.,    0.,    0.,    0.,    0.,    0.,    0.,\n",
       "           0.,    0.,    0.,    0.,    0.,    0.,    0.,    0.,    0.,\n",
       "           0.,    0.,    0.,    0.,    0.,    0.,    0.,    0., 1691.,\n",
       "           0.,    0.,    0.,    0.,    0.,    0.,    0.,    0.,    0.,\n",
       "           0.,    0.,    0.,    0.,    0.,    0.,    0.,    0.,    0.,\n",
       "           0.,    0.,    0.,    0.,    0.,    0.,    0.,    2.,    0.,\n",
       "           0.,    0.,    0.,    0.,    0.,    0.,    0.,    0.,    0.,\n",
       "           0.,    0.,    0.,    0.,    0.,    0.,    0.,    0.,    0.,\n",
       "           0.,    0.,    0.,    0.,    0.,    0.,   14.,    0.,    0.,\n",
       "           0.,    0.,    0.,    0.,    0.,    0.,    0.,    0.,    0.,\n",
       "           0.,    0.,    0.,    0.,    0.,    0.,    0.,    0.,    0.,\n",
       "           0.,    0.,    0.,    0.,    0.,    0.,   27.,    0.,    0.,\n",
       "           0.,    0.,    0.,    0.,    0.,    0.,    0.,    0.,    0.,\n",
       "           0.,    0.,    0.,    0.,    0.,    0.,    0.,    0.,    0.,\n",
       "           0.,    0.,    0.,    0.,    0.,  817.,    0.,    0.,    0.,\n",
       "           0.,    0.,    0.,    0.,    0.,    0.,    0.,    0.,    0.,\n",
       "           0.,    0.,    0.,    0.,    0.,    0.,    0.,    0.,    0.,\n",
       "           0.,    0.,    0.,    0.,  693.,    0.,    0.,    0.,    0.,\n",
       "           0.,    0.,    0.,    0.,    0.,    0.,    0.,    0.,    0.,\n",
       "           0.,    0.,    0.,    0.,    0.,    0.,    0.,    0.,    0.,\n",
       "           0.,    0.,    0.,    0.,  434.,    0.,    0.,    0.,    0.,\n",
       "           0.,    0.,    0.,    0.,    0.,    0.,    0.,    0.,    0.,\n",
       "           0.,    0.,    0.,    0.,    0.,    0.,    0.,    0.,    0.,\n",
       "           0.,    0.,    0.,  919.,    0.,    0.,    0.,    0.,    0.,\n",
       "           0.,    0.,    0.,    0.,    0.,    0.,    0.,    0.,    0.,\n",
       "           0.,    0.,    0.,    0.,    0.,    0.,    0.,    0.,    0.,\n",
       "           0.,    0.,  593.,    0.,    0.,    0.,    0.,    0.,    0.,\n",
       "           0.,    0.,    0.,    0.,    0.,    0.,    0.,    0.,    0.,\n",
       "           0.,    0.,    0.,    0.,    0.,    0.,    0.,    0.,    0.,\n",
       "           0.,    0.,  754.,    0.,    0.,    0.,    0.,    0.,    0.,\n",
       "           0.,    0.,    0.,    0.,    0.,    0.,    0.,    0.,    0.,\n",
       "           0.,    0.,    0.,    0.,    0.,    0.,    0.,    0.,    0.,\n",
       "           0.,  159.,    0.,    0.,    0.,    0.,    0.,    0.,    0.,\n",
       "           0.,    0.,    0.,    0.,    0.,    0.,    0.,    0.,    0.,\n",
       "           0.,    0.,    0.,    0.,    0.,    0.,    0.,    0.,    0.,\n",
       "         171.,    0.,    0.,    0.,    0.,    0.,    0.,    0.,    0.,\n",
       "           0.,    0.,    0.,    0.,    0.,    0.,    0.,    0.,    0.,\n",
       "           0.,    0.,    0.,    0.,    0.,    0.,    0.,    0.,    0.,\n",
       "          54.,    0.,    0.,    0.,    0.,    0.,    0.,    0.,    0.,\n",
       "           0.,    0.,    0.,    0.,    0.,    0.,    0.,    0.,    0.,\n",
       "           0.,    0.,    0.,    0.,    0.,    0.,    0.,    0.,   34.,\n",
       "           0.,    0.,    0.,    0.,    0.,    0.,    0.,    0.,    0.,\n",
       "           0.,    0.,    0.,    0.,    0.,    0.,    0.,    0.,    0.,\n",
       "           0.,    0.,    0.,    0.,    0.,    0.,    0.,   21.,    0.,\n",
       "           0.,    0.,    0.,    0.,    0.,    0.,    0.,    0.,    0.,\n",
       "           0.,    0.,    0.,    0.,    0.,    0.,    0.,    0.,    0.,\n",
       "           0.,    0.,    0.,    0.,    0.,    0.,    0.,   14.,    0.,\n",
       "           0.,    0.,    0.,    0.,    0.,    0.,    0.,    0.,    0.,\n",
       "           0.,    0.,    0.,    0.,    0.,    0.,    0.,    0.,    0.,\n",
       "           0.,    0.,    0.,    0.,    0.,    0.,    9.,    0.,    0.,\n",
       "           0.,    0.,    0.,    0.,    0.,    0.,    0.,    0.,    0.,\n",
       "           0.,    0.,    0.,    0.,    0.,    0.,    0.,    0.,    0.,\n",
       "           0.,    0.,    0.,    0.,    0.,    3.,    0.,    0.,    0.,\n",
       "           0.,    0.,    0.,    0.,    0.,    0.,    0.,    0.,    0.,\n",
       "           0.,    0.,    0.,    0.,    0.,    0.,    0.,    0.,    0.,\n",
       "           0.,    0.,    0.,    0.,    7.]),\n",
       " array([ 0.   ,  0.038,  0.076,  0.114,  0.152,  0.19 ,  0.228,  0.266,\n",
       "         0.304,  0.342,  0.38 ,  0.418,  0.456,  0.494,  0.532,  0.57 ,\n",
       "         0.608,  0.646,  0.684,  0.722,  0.76 ,  0.798,  0.836,  0.874,\n",
       "         0.912,  0.95 ,  0.988,  1.026,  1.064,  1.102,  1.14 ,  1.178,\n",
       "         1.216,  1.254,  1.292,  1.33 ,  1.368,  1.406,  1.444,  1.482,\n",
       "         1.52 ,  1.558,  1.596,  1.634,  1.672,  1.71 ,  1.748,  1.786,\n",
       "         1.824,  1.862,  1.9  ,  1.938,  1.976,  2.014,  2.052,  2.09 ,\n",
       "         2.128,  2.166,  2.204,  2.242,  2.28 ,  2.318,  2.356,  2.394,\n",
       "         2.432,  2.47 ,  2.508,  2.546,  2.584,  2.622,  2.66 ,  2.698,\n",
       "         2.736,  2.774,  2.812,  2.85 ,  2.888,  2.926,  2.964,  3.002,\n",
       "         3.04 ,  3.078,  3.116,  3.154,  3.192,  3.23 ,  3.268,  3.306,\n",
       "         3.344,  3.382,  3.42 ,  3.458,  3.496,  3.534,  3.572,  3.61 ,\n",
       "         3.648,  3.686,  3.724,  3.762,  3.8  ,  3.838,  3.876,  3.914,\n",
       "         3.952,  3.99 ,  4.028,  4.066,  4.104,  4.142,  4.18 ,  4.218,\n",
       "         4.256,  4.294,  4.332,  4.37 ,  4.408,  4.446,  4.484,  4.522,\n",
       "         4.56 ,  4.598,  4.636,  4.674,  4.712,  4.75 ,  4.788,  4.826,\n",
       "         4.864,  4.902,  4.94 ,  4.978,  5.016,  5.054,  5.092,  5.13 ,\n",
       "         5.168,  5.206,  5.244,  5.282,  5.32 ,  5.358,  5.396,  5.434,\n",
       "         5.472,  5.51 ,  5.548,  5.586,  5.624,  5.662,  5.7  ,  5.738,\n",
       "         5.776,  5.814,  5.852,  5.89 ,  5.928,  5.966,  6.004,  6.042,\n",
       "         6.08 ,  6.118,  6.156,  6.194,  6.232,  6.27 ,  6.308,  6.346,\n",
       "         6.384,  6.422,  6.46 ,  6.498,  6.536,  6.574,  6.612,  6.65 ,\n",
       "         6.688,  6.726,  6.764,  6.802,  6.84 ,  6.878,  6.916,  6.954,\n",
       "         6.992,  7.03 ,  7.068,  7.106,  7.144,  7.182,  7.22 ,  7.258,\n",
       "         7.296,  7.334,  7.372,  7.41 ,  7.448,  7.486,  7.524,  7.562,\n",
       "         7.6  ,  7.638,  7.676,  7.714,  7.752,  7.79 ,  7.828,  7.866,\n",
       "         7.904,  7.942,  7.98 ,  8.018,  8.056,  8.094,  8.132,  8.17 ,\n",
       "         8.208,  8.246,  8.284,  8.322,  8.36 ,  8.398,  8.436,  8.474,\n",
       "         8.512,  8.55 ,  8.588,  8.626,  8.664,  8.702,  8.74 ,  8.778,\n",
       "         8.816,  8.854,  8.892,  8.93 ,  8.968,  9.006,  9.044,  9.082,\n",
       "         9.12 ,  9.158,  9.196,  9.234,  9.272,  9.31 ,  9.348,  9.386,\n",
       "         9.424,  9.462,  9.5  ,  9.538,  9.576,  9.614,  9.652,  9.69 ,\n",
       "         9.728,  9.766,  9.804,  9.842,  9.88 ,  9.918,  9.956,  9.994,\n",
       "        10.032, 10.07 , 10.108, 10.146, 10.184, 10.222, 10.26 , 10.298,\n",
       "        10.336, 10.374, 10.412, 10.45 , 10.488, 10.526, 10.564, 10.602,\n",
       "        10.64 , 10.678, 10.716, 10.754, 10.792, 10.83 , 10.868, 10.906,\n",
       "        10.944, 10.982, 11.02 , 11.058, 11.096, 11.134, 11.172, 11.21 ,\n",
       "        11.248, 11.286, 11.324, 11.362, 11.4  , 11.438, 11.476, 11.514,\n",
       "        11.552, 11.59 , 11.628, 11.666, 11.704, 11.742, 11.78 , 11.818,\n",
       "        11.856, 11.894, 11.932, 11.97 , 12.008, 12.046, 12.084, 12.122,\n",
       "        12.16 , 12.198, 12.236, 12.274, 12.312, 12.35 , 12.388, 12.426,\n",
       "        12.464, 12.502, 12.54 , 12.578, 12.616, 12.654, 12.692, 12.73 ,\n",
       "        12.768, 12.806, 12.844, 12.882, 12.92 , 12.958, 12.996, 13.034,\n",
       "        13.072, 13.11 , 13.148, 13.186, 13.224, 13.262, 13.3  , 13.338,\n",
       "        13.376, 13.414, 13.452, 13.49 , 13.528, 13.566, 13.604, 13.642,\n",
       "        13.68 , 13.718, 13.756, 13.794, 13.832, 13.87 , 13.908, 13.946,\n",
       "        13.984, 14.022, 14.06 , 14.098, 14.136, 14.174, 14.212, 14.25 ,\n",
       "        14.288, 14.326, 14.364, 14.402, 14.44 , 14.478, 14.516, 14.554,\n",
       "        14.592, 14.63 , 14.668, 14.706, 14.744, 14.782, 14.82 , 14.858,\n",
       "        14.896, 14.934, 14.972, 15.01 , 15.048, 15.086, 15.124, 15.162,\n",
       "        15.2  , 15.238, 15.276, 15.314, 15.352, 15.39 , 15.428, 15.466,\n",
       "        15.504, 15.542, 15.58 , 15.618, 15.656, 15.694, 15.732, 15.77 ,\n",
       "        15.808, 15.846, 15.884, 15.922, 15.96 , 15.998, 16.036, 16.074,\n",
       "        16.112, 16.15 , 16.188, 16.226, 16.264, 16.302, 16.34 , 16.378,\n",
       "        16.416, 16.454, 16.492, 16.53 , 16.568, 16.606, 16.644, 16.682,\n",
       "        16.72 , 16.758, 16.796, 16.834, 16.872, 16.91 , 16.948, 16.986,\n",
       "        17.024, 17.062, 17.1  , 17.138, 17.176, 17.214, 17.252, 17.29 ,\n",
       "        17.328, 17.366, 17.404, 17.442, 17.48 , 17.518, 17.556, 17.594,\n",
       "        17.632, 17.67 , 17.708, 17.746, 17.784, 17.822, 17.86 , 17.898,\n",
       "        17.936, 17.974, 18.012, 18.05 , 18.088, 18.126, 18.164, 18.202,\n",
       "        18.24 , 18.278, 18.316, 18.354, 18.392, 18.43 , 18.468, 18.506,\n",
       "        18.544, 18.582, 18.62 , 18.658, 18.696, 18.734, 18.772, 18.81 ,\n",
       "        18.848, 18.886, 18.924, 18.962, 19.   ]),\n",
       " <a list of 500 Patch objects>)"
      ]
     },
     "execution_count": 507,
     "metadata": {},
     "output_type": "execute_result"
    },
    {
     "data": {
      "image/png": "[encoded data removed]",
      "text/plain": [
       "<Figure size 432x288 with 1 Axes>"
      ]
     },
     "metadata": {
      "needs_background": "light"
     },
     "output_type": "display_data"
    }
   ],
   "source": [
    "plt.xlim(0, 50)\n",
    "plt.hist(train_trim_square['KitchenSquare'], bins=500)"
   ]
  },
  {
   "cell_type": "code",
   "execution_count": 508,
   "metadata": {},
   "outputs": [],
   "source": [
    "def trim_kitchensquare(df):\n",
    "    df = df[df['KitchenSquare']<20]\n",
    "    return df"
   ]
  },
  {
   "cell_type": "code",
   "execution_count": 509,
   "metadata": {},
   "outputs": [],
   "source": [
    "def clean_kitchensquare(df):\n",
    "    train_kitchen = df[(df['KitchenSquare']<20) & (df['KitchenSquare']>4)]\n",
    "    mean_kitchensquare = train_kitchen.groupby('Rooms', as_index=False)['KitchenSquare'].mean()\n",
    "    mean_kitchensquare.columns = ['Rooms', 'mean_kitchen_square']\n",
    "    if 'mean_kitchen_square' not in df.columns:\n",
    "        df = pd.merge(df, mean_kitchensquare, on = 'Rooms', how='left')\n",
    "    df.loc[df['KitchenSquare']>20, 'KitchenSquare'] = df['mean_kitchen_square']\n",
    "    return df"
   ]
  },
  {
   "cell_type": "markdown",
   "metadata": {},
   "source": [
    "#### Анализ HouseYear на train и valid"
   ]
  },
  {
   "cell_type": "code",
   "execution_count": 510,
   "metadata": {},
   "outputs": [
    {
     "data": {
      "text/html": [
       "<div>\n",
       "<style scoped>\n",
       "    .dataframe tbody tr th:only-of-type {\n",
       "        vertical-align: middle;\n",
       "    }\n",
       "\n",
       "    .dataframe tbody tr th {\n",
       "        vertical-align: top;\n",
       "    }\n",
       "\n",
       "    .dataframe thead th {\n",
       "        text-align: right;\n",
       "    }\n",
       "</style>\n",
       "<table border=\"1\" class=\"dataframe\">\n",
       "  <thead>\n",
       "    <tr style=\"text-align: right;\">\n",
       "      <th></th>\n",
       "      <th>Id</th>\n",
       "      <th>DistrictId</th>\n",
       "      <th>Rooms</th>\n",
       "      <th>Square</th>\n",
       "      <th>LifeSquare</th>\n",
       "      <th>KitchenSquare</th>\n",
       "      <th>Floor</th>\n",
       "      <th>HouseFloor</th>\n",
       "      <th>HouseYear</th>\n",
       "      <th>Ecology_1</th>\n",
       "      <th>Ecology_2</th>\n",
       "      <th>Ecology_3</th>\n",
       "      <th>Social_1</th>\n",
       "      <th>Social_2</th>\n",
       "      <th>Social_3</th>\n",
       "      <th>Healthcare_1</th>\n",
       "      <th>Helthcare_2</th>\n",
       "      <th>Shops_1</th>\n",
       "      <th>Shops_2</th>\n",
       "      <th>Price</th>\n",
       "    </tr>\n",
       "  </thead>\n",
       "  <tbody>\n",
       "    <tr>\n",
       "      <th>4189</th>\n",
       "      <td>11607</td>\n",
       "      <td>147</td>\n",
       "      <td>2.0</td>\n",
       "      <td>44.791836</td>\n",
       "      <td>28.360393</td>\n",
       "      <td>5.0</td>\n",
       "      <td>4</td>\n",
       "      <td>9.0</td>\n",
       "      <td>4968</td>\n",
       "      <td>0.319809</td>\n",
       "      <td>B</td>\n",
       "      <td>B</td>\n",
       "      <td>25</td>\n",
       "      <td>4756</td>\n",
       "      <td>16</td>\n",
       "      <td>2857.0</td>\n",
       "      <td>5</td>\n",
       "      <td>8</td>\n",
       "      <td>B</td>\n",
       "      <td>243028.603096</td>\n",
       "    </tr>\n",
       "    <tr>\n",
       "      <th>1497</th>\n",
       "      <td>10814</td>\n",
       "      <td>109</td>\n",
       "      <td>1.0</td>\n",
       "      <td>37.265070</td>\n",
       "      <td>20.239714</td>\n",
       "      <td>9.0</td>\n",
       "      <td>9</td>\n",
       "      <td>12.0</td>\n",
       "      <td>20052011</td>\n",
       "      <td>0.136330</td>\n",
       "      <td>B</td>\n",
       "      <td>B</td>\n",
       "      <td>30</td>\n",
       "      <td>6141</td>\n",
       "      <td>10</td>\n",
       "      <td>262.0</td>\n",
       "      <td>3</td>\n",
       "      <td>6</td>\n",
       "      <td>B</td>\n",
       "      <td>254084.534396</td>\n",
       "    </tr>\n",
       "  </tbody>\n",
       "</table>\n",
       "</div>"
      ],
      "text/plain": [
       "         Id  DistrictId  Rooms     Square  LifeSquare  KitchenSquare  Floor  \\\n",
       "4189  11607         147    2.0  44.791836   28.360393            5.0      4   \n",
       "1497  10814         109    1.0  37.265070   20.239714            9.0      9   \n",
       "\n",
       "      HouseFloor  HouseYear  Ecology_1 Ecology_2 Ecology_3  Social_1  \\\n",
       "4189         9.0       4968   0.319809         B         B        25   \n",
       "1497        12.0   20052011   0.136330         B         B        30   \n",
       "\n",
       "      Social_2  Social_3  Healthcare_1  Helthcare_2  Shops_1 Shops_2  \\\n",
       "4189      4756        16        2857.0            5        8       B   \n",
       "1497      6141        10         262.0            3        6       B   \n",
       "\n",
       "              Price  \n",
       "4189  243028.603096  \n",
       "1497  254084.534396  "
      ]
     },
     "execution_count": 510,
     "metadata": {},
     "output_type": "execute_result"
    }
   ],
   "source": [
    "train[train['HouseYear']>2020]"
   ]
  },
  {
   "cell_type": "code",
   "execution_count": 511,
   "metadata": {},
   "outputs": [],
   "source": [
    "train.loc[train['HouseYear'] == 20052011,'HouseYear'] = 2011\n",
    "train.loc[train['HouseYear'] == 4968,'HouseYear'] = 1968"
   ]
  },
  {
   "cell_type": "code",
   "execution_count": 512,
   "metadata": {},
   "outputs": [
    {
     "data": {
      "text/html": [
       "<div>\n",
       "<style scoped>\n",
       "    .dataframe tbody tr th:only-of-type {\n",
       "        vertical-align: middle;\n",
       "    }\n",
       "\n",
       "    .dataframe tbody tr th {\n",
       "        vertical-align: top;\n",
       "    }\n",
       "\n",
       "    .dataframe thead th {\n",
       "        text-align: right;\n",
       "    }\n",
       "</style>\n",
       "<table border=\"1\" class=\"dataframe\">\n",
       "  <thead>\n",
       "    <tr style=\"text-align: right;\">\n",
       "      <th></th>\n",
       "      <th>Id</th>\n",
       "      <th>DistrictId</th>\n",
       "      <th>Rooms</th>\n",
       "      <th>Square</th>\n",
       "      <th>LifeSquare</th>\n",
       "      <th>KitchenSquare</th>\n",
       "      <th>Floor</th>\n",
       "      <th>HouseFloor</th>\n",
       "      <th>HouseYear</th>\n",
       "      <th>Ecology_1</th>\n",
       "      <th>Ecology_2</th>\n",
       "      <th>Ecology_3</th>\n",
       "      <th>Social_1</th>\n",
       "      <th>Social_2</th>\n",
       "      <th>Social_3</th>\n",
       "      <th>Healthcare_1</th>\n",
       "      <th>Helthcare_2</th>\n",
       "      <th>Shops_1</th>\n",
       "      <th>Shops_2</th>\n",
       "      <th>Price</th>\n",
       "    </tr>\n",
       "  </thead>\n",
       "  <tbody>\n",
       "  </tbody>\n",
       "</table>\n",
       "</div>"
      ],
      "text/plain": [
       "Empty DataFrame\n",
       "Columns: [Id, DistrictId, Rooms, Square, LifeSquare, KitchenSquare, Floor, HouseFloor, HouseYear, Ecology_1, Ecology_2, Ecology_3, Social_1, Social_2, Social_3, Healthcare_1, Helthcare_2, Shops_1, Shops_2, Price]\n",
       "Index: []"
      ]
     },
     "execution_count": 512,
     "metadata": {},
     "output_type": "execute_result"
    }
   ],
   "source": [
    "valid[valid['HouseYear']>2020]"
   ]
  },
  {
   "cell_type": "markdown",
   "metadata": {},
   "source": [
    "#### Анализ Ecology_2 и Ecology_3"
   ]
  },
  {
   "cell_type": "code",
   "execution_count": 513,
   "metadata": {},
   "outputs": [
    {
     "data": {
      "text/plain": [
       "B    6928\n",
       "A      64\n",
       "Name: Ecology_2, dtype: int64"
      ]
     },
     "execution_count": 513,
     "metadata": {},
     "output_type": "execute_result"
    }
   ],
   "source": [
    "train['Ecology_2'].value_counts()"
   ]
  },
  {
   "cell_type": "code",
   "execution_count": 514,
   "metadata": {},
   "outputs": [
    {
     "data": {
      "text/plain": [
       "B    6790\n",
       "A     202\n",
       "Name: Ecology_3, dtype: int64"
      ]
     },
     "execution_count": 514,
     "metadata": {},
     "output_type": "execute_result"
    }
   ],
   "source": [
    "train['Ecology_3'].value_counts()"
   ]
  },
  {
   "cell_type": "markdown",
   "metadata": {},
   "source": [
    "Приведем значения этих столбцов к числовым: 0 и 1"
   ]
  },
  {
   "cell_type": "code",
   "execution_count": 515,
   "metadata": {},
   "outputs": [],
   "source": [
    "def ecology (df):\n",
    "    if 'B' in df['Ecology_2'].tolist():\n",
    "        df['Ecology_2'] = (df['Ecology_2'] == 'B').astype(int)\n",
    "    if 'B' in df['Ecology_3'].tolist():\n",
    "        df['Ecology_3'] = (df['Ecology_3'] == 'B').astype(int)\n",
    "    return df"
   ]
  },
  {
   "cell_type": "markdown",
   "metadata": {},
   "source": [
    "#### Анализ Social_1, Social_2 и Social_3"
   ]
  },
  {
   "cell_type": "code",
   "execution_count": 516,
   "metadata": {},
   "outputs": [
    {
     "data": {
      "text/plain": [
       "<matplotlib.axes._subplots.AxesSubplot at 0x1d04bfd0>"
      ]
     },
     "execution_count": 516,
     "metadata": {},
     "output_type": "execute_result"
    },
    {
     "data": {
      "image/png": "[encoded data removed]",
      "text/plain": [
       "<Figure size 432x288 with 1 Axes>"
      ]
     },
     "metadata": {
      "needs_background": "light"
     },
     "output_type": "display_data"
    }
   ],
   "source": [
    "sns.boxplot(train['Social_1'], orient='v')"
   ]
  },
  {
   "cell_type": "code",
   "execution_count": 517,
   "metadata": {},
   "outputs": [
    {
     "data": {
      "text/plain": [
       "<matplotlib.axes._subplots.AxesSubplot at 0x1e13d870>"
      ]
     },
     "execution_count": 517,
     "metadata": {},
     "output_type": "execute_result"
    },
    {
     "data": {
      "image/png": "[encoded data removed]",
      "text/plain": [
       "<Figure size 432x288 with 1 Axes>"
      ]
     },
     "metadata": {
      "needs_background": "light"
     },
     "output_type": "display_data"
    }
   ],
   "source": [
    "sns.boxplot(train['Social_2'], orient='v')"
   ]
  },
  {
   "cell_type": "code",
   "execution_count": 518,
   "metadata": {},
   "outputs": [
    {
     "data": {
      "text/plain": [
       "<matplotlib.axes._subplots.AxesSubplot at 0x1e163e10>"
      ]
     },
     "execution_count": 518,
     "metadata": {},
     "output_type": "execute_result"
    },
    {
     "data": {
      "image/png": "[encoded data removed]",
      "text/plain": [
       "<Figure size 432x288 with 1 Axes>"
      ]
     },
     "metadata": {
      "needs_background": "light"
     },
     "output_type": "display_data"
    }
   ],
   "source": [
    "sns.boxplot(train['Social_3'], orient='v')"
   ]
  },
  {
   "cell_type": "code",
   "execution_count": 519,
   "metadata": {},
   "outputs": [
    {
     "data": {
      "text/plain": [
       "count    6889.000000\n",
       "mean        7.999710\n",
       "std        23.702185\n",
       "min         0.000000\n",
       "25%         0.000000\n",
       "50%         2.000000\n",
       "75%         5.000000\n",
       "max       141.000000\n",
       "Name: Social_3, dtype: float64"
      ]
     },
     "execution_count": 519,
     "metadata": {},
     "output_type": "execute_result"
    }
   ],
   "source": [
    "train_trim_square['Social_3'].describe()"
   ]
  },
  {
   "cell_type": "markdown",
   "metadata": {},
   "source": [
    "#### Анализ оставшихся столбцов"
   ]
  },
  {
   "cell_type": "code",
   "execution_count": 520,
   "metadata": {},
   "outputs": [
    {
     "data": {
      "text/html": [
       "<div>\n",
       "<style scoped>\n",
       "    .dataframe tbody tr th:only-of-type {\n",
       "        vertical-align: middle;\n",
       "    }\n",
       "\n",
       "    .dataframe tbody tr th {\n",
       "        vertical-align: top;\n",
       "    }\n",
       "\n",
       "    .dataframe thead th {\n",
       "        text-align: right;\n",
       "    }\n",
       "</style>\n",
       "<table border=\"1\" class=\"dataframe\">\n",
       "  <thead>\n",
       "    <tr style=\"text-align: right;\">\n",
       "      <th></th>\n",
       "      <th>Id</th>\n",
       "      <th>DistrictId</th>\n",
       "      <th>Rooms</th>\n",
       "      <th>Square</th>\n",
       "      <th>LifeSquare</th>\n",
       "      <th>KitchenSquare</th>\n",
       "      <th>Floor</th>\n",
       "      <th>HouseFloor</th>\n",
       "      <th>HouseYear</th>\n",
       "      <th>Ecology_1</th>\n",
       "      <th>Ecology_2</th>\n",
       "      <th>Ecology_3</th>\n",
       "      <th>Social_1</th>\n",
       "      <th>Social_2</th>\n",
       "      <th>Social_3</th>\n",
       "      <th>Healthcare_1</th>\n",
       "      <th>Helthcare_2</th>\n",
       "      <th>Shops_1</th>\n",
       "      <th>Shops_2</th>\n",
       "      <th>Price</th>\n",
       "    </tr>\n",
       "  </thead>\n",
       "  <tbody>\n",
       "    <tr>\n",
       "      <th>9069</th>\n",
       "      <td>14604</td>\n",
       "      <td>23</td>\n",
       "      <td>1.0</td>\n",
       "      <td>41.681380</td>\n",
       "      <td>22.796166</td>\n",
       "      <td>8.0</td>\n",
       "      <td>14</td>\n",
       "      <td>17.0</td>\n",
       "      <td>2015</td>\n",
       "      <td>0.075779</td>\n",
       "      <td>B</td>\n",
       "      <td>B</td>\n",
       "      <td>6</td>\n",
       "      <td>1437</td>\n",
       "      <td>3</td>\n",
       "      <td>NaN</td>\n",
       "      <td>0</td>\n",
       "      <td>2</td>\n",
       "      <td>B</td>\n",
       "      <td>88504.384965</td>\n",
       "    </tr>\n",
       "    <tr>\n",
       "      <th>2603</th>\n",
       "      <td>5621</td>\n",
       "      <td>23</td>\n",
       "      <td>3.0</td>\n",
       "      <td>163.495333</td>\n",
       "      <td>161.504222</td>\n",
       "      <td>12.0</td>\n",
       "      <td>5</td>\n",
       "      <td>3.0</td>\n",
       "      <td>1977</td>\n",
       "      <td>0.014073</td>\n",
       "      <td>B</td>\n",
       "      <td>B</td>\n",
       "      <td>2</td>\n",
       "      <td>475</td>\n",
       "      <td>0</td>\n",
       "      <td>NaN</td>\n",
       "      <td>0</td>\n",
       "      <td>0</td>\n",
       "      <td>B</td>\n",
       "      <td>207007.956663</td>\n",
       "    </tr>\n",
       "    <tr>\n",
       "      <th>7738</th>\n",
       "      <td>235</td>\n",
       "      <td>87</td>\n",
       "      <td>1.0</td>\n",
       "      <td>39.710131</td>\n",
       "      <td>19.538663</td>\n",
       "      <td>8.0</td>\n",
       "      <td>4</td>\n",
       "      <td>17.0</td>\n",
       "      <td>1986</td>\n",
       "      <td>0.100456</td>\n",
       "      <td>B</td>\n",
       "      <td>B</td>\n",
       "      <td>43</td>\n",
       "      <td>7227</td>\n",
       "      <td>0</td>\n",
       "      <td>NaN</td>\n",
       "      <td>1</td>\n",
       "      <td>6</td>\n",
       "      <td>A</td>\n",
       "      <td>182126.280899</td>\n",
       "    </tr>\n",
       "    <tr>\n",
       "      <th>1579</th>\n",
       "      <td>16258</td>\n",
       "      <td>48</td>\n",
       "      <td>3.0</td>\n",
       "      <td>96.056784</td>\n",
       "      <td>98.152802</td>\n",
       "      <td>1.0</td>\n",
       "      <td>15</td>\n",
       "      <td>1.0</td>\n",
       "      <td>2017</td>\n",
       "      <td>0.041125</td>\n",
       "      <td>B</td>\n",
       "      <td>B</td>\n",
       "      <td>46</td>\n",
       "      <td>9515</td>\n",
       "      <td>5</td>\n",
       "      <td>NaN</td>\n",
       "      <td>1</td>\n",
       "      <td>10</td>\n",
       "      <td>B</td>\n",
       "      <td>524365.550705</td>\n",
       "    </tr>\n",
       "    <tr>\n",
       "      <th>5058</th>\n",
       "      <td>10773</td>\n",
       "      <td>77</td>\n",
       "      <td>3.0</td>\n",
       "      <td>79.195825</td>\n",
       "      <td>44.421062</td>\n",
       "      <td>10.0</td>\n",
       "      <td>16</td>\n",
       "      <td>17.0</td>\n",
       "      <td>1984</td>\n",
       "      <td>0.298205</td>\n",
       "      <td>B</td>\n",
       "      <td>B</td>\n",
       "      <td>16</td>\n",
       "      <td>4048</td>\n",
       "      <td>3</td>\n",
       "      <td>NaN</td>\n",
       "      <td>1</td>\n",
       "      <td>3</td>\n",
       "      <td>B</td>\n",
       "      <td>322048.433990</td>\n",
       "    </tr>\n",
       "  </tbody>\n",
       "</table>\n",
       "</div>"
      ],
      "text/plain": [
       "         Id  DistrictId  Rooms      Square  LifeSquare  KitchenSquare  Floor  \\\n",
       "9069  14604          23    1.0   41.681380   22.796166            8.0     14   \n",
       "2603   5621          23    3.0  163.495333  161.504222           12.0      5   \n",
       "7738    235          87    1.0   39.710131   19.538663            8.0      4   \n",
       "1579  16258          48    3.0   96.056784   98.152802            1.0     15   \n",
       "5058  10773          77    3.0   79.195825   44.421062           10.0     16   \n",
       "\n",
       "      HouseFloor  HouseYear  Ecology_1 Ecology_2 Ecology_3  Social_1  \\\n",
       "9069        17.0       2015   0.075779         B         B         6   \n",
       "2603         3.0       1977   0.014073         B         B         2   \n",
       "7738        17.0       1986   0.100456         B         B        43   \n",
       "1579         1.0       2017   0.041125         B         B        46   \n",
       "5058        17.0       1984   0.298205         B         B        16   \n",
       "\n",
       "      Social_2  Social_3  Healthcare_1  Helthcare_2  Shops_1 Shops_2  \\\n",
       "9069      1437         3           NaN            0        2       B   \n",
       "2603       475         0           NaN            0        0       B   \n",
       "7738      7227         0           NaN            1        6       A   \n",
       "1579      9515         5           NaN            1       10       B   \n",
       "5058      4048         3           NaN            1        3       B   \n",
       "\n",
       "              Price  \n",
       "9069   88504.384965  \n",
       "2603  207007.956663  \n",
       "7738  182126.280899  \n",
       "1579  524365.550705  \n",
       "5058  322048.433990  "
      ]
     },
     "execution_count": 520,
     "metadata": {},
     "output_type": "execute_result"
    }
   ],
   "source": [
    "train.head()"
   ]
  },
  {
   "cell_type": "code",
   "execution_count": 521,
   "metadata": {},
   "outputs": [
    {
     "data": {
      "text/plain": [
       "0    2941\n",
       "1    1548\n",
       "2     817\n",
       "3    1146\n",
       "4     208\n",
       "5     261\n",
       "6      71\n",
       "Name: Helthcare_2, dtype: int64"
      ]
     },
     "execution_count": 521,
     "metadata": {},
     "output_type": "execute_result"
    }
   ],
   "source": [
    "train['Helthcare_2'].value_counts().sort_index()"
   ]
  },
  {
   "cell_type": "code",
   "execution_count": 522,
   "metadata": {},
   "outputs": [
    {
     "data": {
      "text/plain": [
       "0     1584\n",
       "1      951\n",
       "2      664\n",
       "3      501\n",
       "4      603\n",
       "5      911\n",
       "6      337\n",
       "7      209\n",
       "8      182\n",
       "9      224\n",
       "10     158\n",
       "11     275\n",
       "15     122\n",
       "16      61\n",
       "19      37\n",
       "23     173\n",
       "Name: Shops_1, dtype: int64"
      ]
     },
     "execution_count": 522,
     "metadata": {},
     "output_type": "execute_result"
    }
   ],
   "source": [
    "train['Shops_1'].value_counts().sort_index()"
   ]
  },
  {
   "cell_type": "markdown",
   "metadata": {},
   "source": [
    "Приведем значения Shops_2 к 0 и 1"
   ]
  },
  {
   "cell_type": "code",
   "execution_count": 523,
   "metadata": {},
   "outputs": [
    {
     "data": {
      "text/plain": [
       "A     584\n",
       "B    6408\n",
       "Name: Shops_2, dtype: int64"
      ]
     },
     "execution_count": 523,
     "metadata": {},
     "output_type": "execute_result"
    }
   ],
   "source": [
    "train['Shops_2'].value_counts().sort_index()"
   ]
  },
  {
   "cell_type": "code",
   "execution_count": 524,
   "metadata": {},
   "outputs": [],
   "source": [
    "def shops_2(df):\n",
    "    if 'B' in df['Shops_2'].tolist():\n",
    "        df['Shops_2'] = (df['Shops_2'] == 'B').astype(int)\n",
    "    return df"
   ]
  },
  {
   "cell_type": "markdown",
   "metadata": {},
   "source": [
    "#### Сделаем столбец со средней ценой, сгруппируя по району и количеству комнат"
   ]
  },
  {
   "cell_type": "code",
   "execution_count": 627,
   "metadata": {},
   "outputs": [],
   "source": [
    "def train_trim(df):\n",
    "    df = trim_square(df)\n",
    "    df = trim_lifesquare(df)\n",
    "    df = trim_kitchensquare(df)\n",
    "    return df"
   ]
  },
  {
   "cell_type": "code",
   "execution_count": 636,
   "metadata": {},
   "outputs": [],
   "source": [
    "trimmed_train = train_trim(train)"
   ]
  },
  {
   "cell_type": "code",
   "execution_count": 629,
   "metadata": {},
   "outputs": [],
   "source": [
    "mean_price = trimmed_train.groupby(['DistrictId', 'Rooms'], as_index=False)[['Price']].mean().\\\n",
    "rename(columns={'Price':'mean_price'})\n",
    "mean_price2 = trimmed_train.groupby('Rooms', as_index=False)[['Price']].mean().\\\n",
    "rename(columns={'Price':'mean_price2'})\n",
    "mean_price_all = trimmed_train['Price'].mean()"
   ]
  },
  {
   "cell_type": "code",
   "execution_count": 631,
   "metadata": {},
   "outputs": [],
   "source": [
    "def add_mean_price(df):\n",
    "    global mean_price_all,mean_price, mean_price2\n",
    "    if 'mean_price' not in df.columns:\n",
    "        df = pd.merge(df, mean_price2, on='Rooms', how='left')\n",
    "        df['mean_price2'] = df['mean_price2'].fillna(mean_price_all)\n",
    "        df = pd.merge(df, mean_price, on=['DistrictId', 'Rooms'], how='left')\n",
    "        df['mean_price'] = df['mean_price'].fillna(df['mean_price2'])\n",
    "        df = df.drop('mean_price2', axis=1)\n",
    "    return df"
   ]
  },
  {
   "cell_type": "markdown",
   "metadata": {},
   "source": [
    "#### Подготовим тренировочный набор данных"
   ]
  },
  {
   "cell_type": "code",
   "execution_count": 632,
   "metadata": {},
   "outputs": [],
   "source": [
    "def prepare_train(df):\n",
    "    df = fill_empty_lifesquare(df)\n",
    "    df = ecology(df)\n",
    "    df = shops_2(df)\n",
    "    df = add_mean_price(df)\n",
    "    return df"
   ]
  },
  {
   "cell_type": "code",
   "execution_count": 643,
   "metadata": {},
   "outputs": [],
   "source": [
    "prepared_train = prepare_train(train)"
   ]
  },
  {
   "cell_type": "code",
   "execution_count": 644,
   "metadata": {},
   "outputs": [],
   "source": [
    "def prepare_valid_clean(df):\n",
    "    df = fill_empty_lifesquare(df)\n",
    "    df = clean_lifesquare(df)\n",
    "    df = clean_kitchensquare(df)\n",
    "    df = ecology(df)\n",
    "    df = shops_2(df)\n",
    "    df = add_mean_price(df)\n",
    "    return df"
   ]
  },
  {
   "cell_type": "code",
   "execution_count": 645,
   "metadata": {},
   "outputs": [],
   "source": [
    "cleanned_valid = prepare_valid_clean(valid)"
   ]
  },
  {
   "cell_type": "markdown",
   "metadata": {},
   "source": [
    "### Обучение модели"
   ]
  },
  {
   "cell_type": "markdown",
   "metadata": {},
   "source": [
    "Обучим на forest"
   ]
  },
  {
   "cell_type": "code",
   "execution_count": 646,
   "metadata": {},
   "outputs": [],
   "source": [
    "feats = ['Square', 'Rooms', 'Floor', 'HouseYear', 'Ecology_1', 'Social_1', 'Helthcare_2', 'Shops_2', 'mean_price']"
   ]
  },
  {
   "cell_type": "code",
   "execution_count": 666,
   "metadata": {},
   "outputs": [],
   "source": [
    "dtr = RFR(n_estimators=100, max_depth=8, random_state=42)\n",
    "dtr.fit(prepared_train.loc[:, feats], prepared_train['Price'])\n",
    "y_pred_train = dtr.predict(prepared_train.loc[:, feats])\n",
    "y_pred_valid = dtr.predict(cleanned_valid.loc[:, feats])\n",
    "metric_train = r2(prepared_train['Price'], y_pred_train)\n",
    "metric_valid = r2(cleanned_valid['Price'], y_pred_valid)"
   ]
  },
  {
   "cell_type": "code",
   "execution_count": 667,
   "metadata": {},
   "outputs": [
    {
     "data": {
      "text/plain": [
       "0.8292715855021531"
      ]
     },
     "execution_count": 667,
     "metadata": {},
     "output_type": "execute_result"
    }
   ],
   "source": [
    "metric_train"
   ]
  },
  {
   "cell_type": "code",
   "execution_count": 668,
   "metadata": {},
   "outputs": [
    {
     "data": {
      "text/plain": [
       "0.6755260911307384"
      ]
     },
     "execution_count": 668,
     "metadata": {},
     "output_type": "execute_result"
    }
   ],
   "source": [
    "metric_valid"
   ]
  },
  {
   "cell_type": "markdown",
   "metadata": {},
   "source": [
    "#### Предсказание на тесте"
   ]
  },
  {
   "cell_type": "code",
   "execution_count": 669,
   "metadata": {},
   "outputs": [],
   "source": [
    "test = pd.read_csv('test.csv')"
   ]
  },
  {
   "cell_type": "code",
   "execution_count": 670,
   "metadata": {},
   "outputs": [
    {
     "name": "stdout",
     "output_type": "stream",
     "text": [
      "<class 'pandas.core.frame.DataFrame'>\n",
      "RangeIndex: 5000 entries, 0 to 4999\n",
      "Data columns (total 19 columns):\n",
      "Id               5000 non-null int64\n",
      "DistrictId       5000 non-null int64\n",
      "Rooms            5000 non-null float64\n",
      "Square           5000 non-null float64\n",
      "LifeSquare       3959 non-null float64\n",
      "KitchenSquare    5000 non-null float64\n",
      "Floor            5000 non-null int64\n",
      "HouseFloor       5000 non-null float64\n",
      "HouseYear        5000 non-null int64\n",
      "Ecology_1        5000 non-null float64\n",
      "Ecology_2        5000 non-null object\n",
      "Ecology_3        5000 non-null object\n",
      "Social_1         5000 non-null int64\n",
      "Social_2         5000 non-null int64\n",
      "Social_3         5000 non-null int64\n",
      "Healthcare_1     2623 non-null float64\n",
      "Helthcare_2      5000 non-null int64\n",
      "Shops_1          5000 non-null int64\n",
      "Shops_2          5000 non-null object\n",
      "dtypes: float64(7), int64(9), object(3)\n",
      "memory usage: 683.6+ KB\n"
     ]
    }
   ],
   "source": [
    "test.info()"
   ]
  },
  {
   "cell_type": "code",
   "execution_count": 671,
   "metadata": {},
   "outputs": [],
   "source": [
    "test = prepare_valid_clean(test)"
   ]
  },
  {
   "cell_type": "code",
   "execution_count": 672,
   "metadata": {},
   "outputs": [],
   "source": [
    "test['Price'] = dtr.predict(test.loc[:, feats])"
   ]
  },
  {
   "cell_type": "code",
   "execution_count": 673,
   "metadata": {},
   "outputs": [],
   "source": [
    "test.loc[:, ['Id', 'Price']].to_csv('KSmirnov_predictions.csv', index=None)"
   ]
  }
 ],
 "metadata": {
  "kernelspec": {
   "display_name": "Python 3",
   "language": "python",
   "name": "python3"
  },
  "language_info": {
   "codemirror_mode": {
    "name": "ipython",
    "version": 3
   },
   "file_extension": ".py",
   "mimetype": "text/x-python",
   "name": "python",
   "nbconvert_exporter": "python",
   "pygments_lexer": "ipython3",
   "version": "3.7.3"
  }
 },
 "nbformat": 4,
 "nbformat_minor": 2
}
